{
  "cells": [
    {
      "cell_type": "markdown",
      "source": [
        "# Data Import"
      ],
      "metadata": {
        "id": "mn4XFXRSZFU-"
      }
    },
    {
      "cell_type": "code",
      "execution_count": 1,
      "metadata": {
        "colab": {
          "base_uri": "https://localhost:8080/",
          "height": 0
        },
        "id": "t8Ev9PLpWxlD",
        "outputId": "cbd9c860-870c-42ef-e34d-1b5029139df4"
      },
      "outputs": [
        {
          "output_type": "display_data",
          "data": {
            "text/plain": [
              "<IPython.core.display.HTML object>"
            ],
            "text/html": [
              "\n",
              "     <input type=\"file\" id=\"files-c33ede98-93ae-45c8-997d-9b860fff2963\" name=\"files[]\" multiple disabled\n",
              "        style=\"border:none\" />\n",
              "     <output id=\"result-c33ede98-93ae-45c8-997d-9b860fff2963\">\n",
              "      Upload widget is only available when the cell has been executed in the\n",
              "      current browser session. Please rerun this cell to enable.\n",
              "      </output>\n",
              "      <script>// Copyright 2017 Google LLC\n",
              "//\n",
              "// Licensed under the Apache License, Version 2.0 (the \"License\");\n",
              "// you may not use this file except in compliance with the License.\n",
              "// You may obtain a copy of the License at\n",
              "//\n",
              "//      http://www.apache.org/licenses/LICENSE-2.0\n",
              "//\n",
              "// Unless required by applicable law or agreed to in writing, software\n",
              "// distributed under the License is distributed on an \"AS IS\" BASIS,\n",
              "// WITHOUT WARRANTIES OR CONDITIONS OF ANY KIND, either express or implied.\n",
              "// See the License for the specific language governing permissions and\n",
              "// limitations under the License.\n",
              "\n",
              "/**\n",
              " * @fileoverview Helpers for google.colab Python module.\n",
              " */\n",
              "(function(scope) {\n",
              "function span(text, styleAttributes = {}) {\n",
              "  const element = document.createElement('span');\n",
              "  element.textContent = text;\n",
              "  for (const key of Object.keys(styleAttributes)) {\n",
              "    element.style[key] = styleAttributes[key];\n",
              "  }\n",
              "  return element;\n",
              "}\n",
              "\n",
              "// Max number of bytes which will be uploaded at a time.\n",
              "const MAX_PAYLOAD_SIZE = 100 * 1024;\n",
              "\n",
              "function _uploadFiles(inputId, outputId) {\n",
              "  const steps = uploadFilesStep(inputId, outputId);\n",
              "  const outputElement = document.getElementById(outputId);\n",
              "  // Cache steps on the outputElement to make it available for the next call\n",
              "  // to uploadFilesContinue from Python.\n",
              "  outputElement.steps = steps;\n",
              "\n",
              "  return _uploadFilesContinue(outputId);\n",
              "}\n",
              "\n",
              "// This is roughly an async generator (not supported in the browser yet),\n",
              "// where there are multiple asynchronous steps and the Python side is going\n",
              "// to poll for completion of each step.\n",
              "// This uses a Promise to block the python side on completion of each step,\n",
              "// then passes the result of the previous step as the input to the next step.\n",
              "function _uploadFilesContinue(outputId) {\n",
              "  const outputElement = document.getElementById(outputId);\n",
              "  const steps = outputElement.steps;\n",
              "\n",
              "  const next = steps.next(outputElement.lastPromiseValue);\n",
              "  return Promise.resolve(next.value.promise).then((value) => {\n",
              "    // Cache the last promise value to make it available to the next\n",
              "    // step of the generator.\n",
              "    outputElement.lastPromiseValue = value;\n",
              "    return next.value.response;\n",
              "  });\n",
              "}\n",
              "\n",
              "/**\n",
              " * Generator function which is called between each async step of the upload\n",
              " * process.\n",
              " * @param {string} inputId Element ID of the input file picker element.\n",
              " * @param {string} outputId Element ID of the output display.\n",
              " * @return {!Iterable<!Object>} Iterable of next steps.\n",
              " */\n",
              "function* uploadFilesStep(inputId, outputId) {\n",
              "  const inputElement = document.getElementById(inputId);\n",
              "  inputElement.disabled = false;\n",
              "\n",
              "  const outputElement = document.getElementById(outputId);\n",
              "  outputElement.innerHTML = '';\n",
              "\n",
              "  const pickedPromise = new Promise((resolve) => {\n",
              "    inputElement.addEventListener('change', (e) => {\n",
              "      resolve(e.target.files);\n",
              "    });\n",
              "  });\n",
              "\n",
              "  const cancel = document.createElement('button');\n",
              "  inputElement.parentElement.appendChild(cancel);\n",
              "  cancel.textContent = 'Cancel upload';\n",
              "  const cancelPromise = new Promise((resolve) => {\n",
              "    cancel.onclick = () => {\n",
              "      resolve(null);\n",
              "    };\n",
              "  });\n",
              "\n",
              "  // Wait for the user to pick the files.\n",
              "  const files = yield {\n",
              "    promise: Promise.race([pickedPromise, cancelPromise]),\n",
              "    response: {\n",
              "      action: 'starting',\n",
              "    }\n",
              "  };\n",
              "\n",
              "  cancel.remove();\n",
              "\n",
              "  // Disable the input element since further picks are not allowed.\n",
              "  inputElement.disabled = true;\n",
              "\n",
              "  if (!files) {\n",
              "    return {\n",
              "      response: {\n",
              "        action: 'complete',\n",
              "      }\n",
              "    };\n",
              "  }\n",
              "\n",
              "  for (const file of files) {\n",
              "    const li = document.createElement('li');\n",
              "    li.append(span(file.name, {fontWeight: 'bold'}));\n",
              "    li.append(span(\n",
              "        `(${file.type || 'n/a'}) - ${file.size} bytes, ` +\n",
              "        `last modified: ${\n",
              "            file.lastModifiedDate ? file.lastModifiedDate.toLocaleDateString() :\n",
              "                                    'n/a'} - `));\n",
              "    const percent = span('0% done');\n",
              "    li.appendChild(percent);\n",
              "\n",
              "    outputElement.appendChild(li);\n",
              "\n",
              "    const fileDataPromise = new Promise((resolve) => {\n",
              "      const reader = new FileReader();\n",
              "      reader.onload = (e) => {\n",
              "        resolve(e.target.result);\n",
              "      };\n",
              "      reader.readAsArrayBuffer(file);\n",
              "    });\n",
              "    // Wait for the data to be ready.\n",
              "    let fileData = yield {\n",
              "      promise: fileDataPromise,\n",
              "      response: {\n",
              "        action: 'continue',\n",
              "      }\n",
              "    };\n",
              "\n",
              "    // Use a chunked sending to avoid message size limits. See b/62115660.\n",
              "    let position = 0;\n",
              "    do {\n",
              "      const length = Math.min(fileData.byteLength - position, MAX_PAYLOAD_SIZE);\n",
              "      const chunk = new Uint8Array(fileData, position, length);\n",
              "      position += length;\n",
              "\n",
              "      const base64 = btoa(String.fromCharCode.apply(null, chunk));\n",
              "      yield {\n",
              "        response: {\n",
              "          action: 'append',\n",
              "          file: file.name,\n",
              "          data: base64,\n",
              "        },\n",
              "      };\n",
              "\n",
              "      let percentDone = fileData.byteLength === 0 ?\n",
              "          100 :\n",
              "          Math.round((position / fileData.byteLength) * 100);\n",
              "      percent.textContent = `${percentDone}% done`;\n",
              "\n",
              "    } while (position < fileData.byteLength);\n",
              "  }\n",
              "\n",
              "  // All done.\n",
              "  yield {\n",
              "    response: {\n",
              "      action: 'complete',\n",
              "    }\n",
              "  };\n",
              "}\n",
              "\n",
              "scope.google = scope.google || {};\n",
              "scope.google.colab = scope.google.colab || {};\n",
              "scope.google.colab._files = {\n",
              "  _uploadFiles,\n",
              "  _uploadFilesContinue,\n",
              "};\n",
              "})(self);\n",
              "</script> "
            ]
          },
          "metadata": {}
        },
        {
          "output_type": "stream",
          "name": "stdout",
          "text": [
            "Saving vgsales.csv to vgsales (3).csv\n"
          ]
        }
      ],
      "source": [
        "from google.colab import files\n",
        "uploaded = files.upload()"
      ]
    },
    {
      "cell_type": "code",
      "execution_count": 2,
      "metadata": {
        "id": "s2SV6Bg2WzyC"
      },
      "outputs": [],
      "source": [
        "import pandas as pd\n",
        "import numpy as np\n",
        "import io\n",
        "df = pd.read_csv(io.BytesIO(uploaded['vgsales.csv']))\n",
        "data = pd.read_csv(io.BytesIO(uploaded['vgsales.csv']), index_col='Rank')"
      ]
    },
    {
      "cell_type": "markdown",
      "source": [
        "# Data manipulation"
      ],
      "metadata": {
        "id": "KzZJ_W5PZK42"
      }
    },
    {
      "cell_type": "code",
      "execution_count": 3,
      "metadata": {
        "colab": {
          "base_uri": "https://localhost:8080/",
          "height": 0
        },
        "id": "x3J7xecVzdQD",
        "outputId": "3a6f51f3-839d-4929-b933-03cbb7a635fc"
      },
      "outputs": [
        {
          "output_type": "execute_result",
          "data": {
            "text/plain": [
              "               Rank          Year      NA_Sales      EU_Sales      JP_Sales  \\\n",
              "count  16598.000000  16327.000000  16598.000000  16598.000000  16598.000000   \n",
              "mean    8300.605254   2006.406443      0.264667      0.146652      0.077782   \n",
              "std     4791.853933      5.828981      0.816683      0.505351      0.309291   \n",
              "min        1.000000   1980.000000      0.000000      0.000000      0.000000   \n",
              "25%     4151.250000   2003.000000      0.000000      0.000000      0.000000   \n",
              "50%     8300.500000   2007.000000      0.080000      0.020000      0.000000   \n",
              "75%    12449.750000   2010.000000      0.240000      0.110000      0.040000   \n",
              "max    16600.000000   2020.000000     41.490000     29.020000     10.220000   \n",
              "\n",
              "        Other_Sales  Global_Sales  \n",
              "count  16598.000000  16598.000000  \n",
              "mean       0.048063      0.537441  \n",
              "std        0.188588      1.555028  \n",
              "min        0.000000      0.010000  \n",
              "25%        0.000000      0.060000  \n",
              "50%        0.010000      0.170000  \n",
              "75%        0.040000      0.470000  \n",
              "max       10.570000     82.740000  "
            ],
            "text/html": [
              "\n",
              "  <div id=\"df-8017a75f-ce46-4001-98a9-0292bedb794f\">\n",
              "    <div class=\"colab-df-container\">\n",
              "      <div>\n",
              "<style scoped>\n",
              "    .dataframe tbody tr th:only-of-type {\n",
              "        vertical-align: middle;\n",
              "    }\n",
              "\n",
              "    .dataframe tbody tr th {\n",
              "        vertical-align: top;\n",
              "    }\n",
              "\n",
              "    .dataframe thead th {\n",
              "        text-align: right;\n",
              "    }\n",
              "</style>\n",
              "<table border=\"1\" class=\"dataframe\">\n",
              "  <thead>\n",
              "    <tr style=\"text-align: right;\">\n",
              "      <th></th>\n",
              "      <th>Rank</th>\n",
              "      <th>Year</th>\n",
              "      <th>NA_Sales</th>\n",
              "      <th>EU_Sales</th>\n",
              "      <th>JP_Sales</th>\n",
              "      <th>Other_Sales</th>\n",
              "      <th>Global_Sales</th>\n",
              "    </tr>\n",
              "  </thead>\n",
              "  <tbody>\n",
              "    <tr>\n",
              "      <th>count</th>\n",
              "      <td>16598.000000</td>\n",
              "      <td>16327.000000</td>\n",
              "      <td>16598.000000</td>\n",
              "      <td>16598.000000</td>\n",
              "      <td>16598.000000</td>\n",
              "      <td>16598.000000</td>\n",
              "      <td>16598.000000</td>\n",
              "    </tr>\n",
              "    <tr>\n",
              "      <th>mean</th>\n",
              "      <td>8300.605254</td>\n",
              "      <td>2006.406443</td>\n",
              "      <td>0.264667</td>\n",
              "      <td>0.146652</td>\n",
              "      <td>0.077782</td>\n",
              "      <td>0.048063</td>\n",
              "      <td>0.537441</td>\n",
              "    </tr>\n",
              "    <tr>\n",
              "      <th>std</th>\n",
              "      <td>4791.853933</td>\n",
              "      <td>5.828981</td>\n",
              "      <td>0.816683</td>\n",
              "      <td>0.505351</td>\n",
              "      <td>0.309291</td>\n",
              "      <td>0.188588</td>\n",
              "      <td>1.555028</td>\n",
              "    </tr>\n",
              "    <tr>\n",
              "      <th>min</th>\n",
              "      <td>1.000000</td>\n",
              "      <td>1980.000000</td>\n",
              "      <td>0.000000</td>\n",
              "      <td>0.000000</td>\n",
              "      <td>0.000000</td>\n",
              "      <td>0.000000</td>\n",
              "      <td>0.010000</td>\n",
              "    </tr>\n",
              "    <tr>\n",
              "      <th>25%</th>\n",
              "      <td>4151.250000</td>\n",
              "      <td>2003.000000</td>\n",
              "      <td>0.000000</td>\n",
              "      <td>0.000000</td>\n",
              "      <td>0.000000</td>\n",
              "      <td>0.000000</td>\n",
              "      <td>0.060000</td>\n",
              "    </tr>\n",
              "    <tr>\n",
              "      <th>50%</th>\n",
              "      <td>8300.500000</td>\n",
              "      <td>2007.000000</td>\n",
              "      <td>0.080000</td>\n",
              "      <td>0.020000</td>\n",
              "      <td>0.000000</td>\n",
              "      <td>0.010000</td>\n",
              "      <td>0.170000</td>\n",
              "    </tr>\n",
              "    <tr>\n",
              "      <th>75%</th>\n",
              "      <td>12449.750000</td>\n",
              "      <td>2010.000000</td>\n",
              "      <td>0.240000</td>\n",
              "      <td>0.110000</td>\n",
              "      <td>0.040000</td>\n",
              "      <td>0.040000</td>\n",
              "      <td>0.470000</td>\n",
              "    </tr>\n",
              "    <tr>\n",
              "      <th>max</th>\n",
              "      <td>16600.000000</td>\n",
              "      <td>2020.000000</td>\n",
              "      <td>41.490000</td>\n",
              "      <td>29.020000</td>\n",
              "      <td>10.220000</td>\n",
              "      <td>10.570000</td>\n",
              "      <td>82.740000</td>\n",
              "    </tr>\n",
              "  </tbody>\n",
              "</table>\n",
              "</div>\n",
              "      <button class=\"colab-df-convert\" onclick=\"convertToInteractive('df-8017a75f-ce46-4001-98a9-0292bedb794f')\"\n",
              "              title=\"Convert this dataframe to an interactive table.\"\n",
              "              style=\"display:none;\">\n",
              "        \n",
              "  <svg xmlns=\"http://www.w3.org/2000/svg\" height=\"24px\"viewBox=\"0 0 24 24\"\n",
              "       width=\"24px\">\n",
              "    <path d=\"M0 0h24v24H0V0z\" fill=\"none\"/>\n",
              "    <path d=\"M18.56 5.44l.94 2.06.94-2.06 2.06-.94-2.06-.94-.94-2.06-.94 2.06-2.06.94zm-11 1L8.5 8.5l.94-2.06 2.06-.94-2.06-.94L8.5 2.5l-.94 2.06-2.06.94zm10 10l.94 2.06.94-2.06 2.06-.94-2.06-.94-.94-2.06-.94 2.06-2.06.94z\"/><path d=\"M17.41 7.96l-1.37-1.37c-.4-.4-.92-.59-1.43-.59-.52 0-1.04.2-1.43.59L10.3 9.45l-7.72 7.72c-.78.78-.78 2.05 0 2.83L4 21.41c.39.39.9.59 1.41.59.51 0 1.02-.2 1.41-.59l7.78-7.78 2.81-2.81c.8-.78.8-2.07 0-2.86zM5.41 20L4 18.59l7.72-7.72 1.47 1.35L5.41 20z\"/>\n",
              "  </svg>\n",
              "      </button>\n",
              "      \n",
              "  <style>\n",
              "    .colab-df-container {\n",
              "      display:flex;\n",
              "      flex-wrap:wrap;\n",
              "      gap: 12px;\n",
              "    }\n",
              "\n",
              "    .colab-df-convert {\n",
              "      background-color: #E8F0FE;\n",
              "      border: none;\n",
              "      border-radius: 50%;\n",
              "      cursor: pointer;\n",
              "      display: none;\n",
              "      fill: #1967D2;\n",
              "      height: 32px;\n",
              "      padding: 0 0 0 0;\n",
              "      width: 32px;\n",
              "    }\n",
              "\n",
              "    .colab-df-convert:hover {\n",
              "      background-color: #E2EBFA;\n",
              "      box-shadow: 0px 1px 2px rgba(60, 64, 67, 0.3), 0px 1px 3px 1px rgba(60, 64, 67, 0.15);\n",
              "      fill: #174EA6;\n",
              "    }\n",
              "\n",
              "    [theme=dark] .colab-df-convert {\n",
              "      background-color: #3B4455;\n",
              "      fill: #D2E3FC;\n",
              "    }\n",
              "\n",
              "    [theme=dark] .colab-df-convert:hover {\n",
              "      background-color: #434B5C;\n",
              "      box-shadow: 0px 1px 3px 1px rgba(0, 0, 0, 0.15);\n",
              "      filter: drop-shadow(0px 1px 2px rgba(0, 0, 0, 0.3));\n",
              "      fill: #FFFFFF;\n",
              "    }\n",
              "  </style>\n",
              "\n",
              "      <script>\n",
              "        const buttonEl =\n",
              "          document.querySelector('#df-8017a75f-ce46-4001-98a9-0292bedb794f button.colab-df-convert');\n",
              "        buttonEl.style.display =\n",
              "          google.colab.kernel.accessAllowed ? 'block' : 'none';\n",
              "\n",
              "        async function convertToInteractive(key) {\n",
              "          const element = document.querySelector('#df-8017a75f-ce46-4001-98a9-0292bedb794f');\n",
              "          const dataTable =\n",
              "            await google.colab.kernel.invokeFunction('convertToInteractive',\n",
              "                                                     [key], {});\n",
              "          if (!dataTable) return;\n",
              "\n",
              "          const docLinkHtml = 'Like what you see? Visit the ' +\n",
              "            '<a target=\"_blank\" href=https://colab.research.google.com/notebooks/data_table.ipynb>data table notebook</a>'\n",
              "            + ' to learn more about interactive tables.';\n",
              "          element.innerHTML = '';\n",
              "          dataTable['output_type'] = 'display_data';\n",
              "          await google.colab.output.renderOutput(dataTable, element);\n",
              "          const docLink = document.createElement('div');\n",
              "          docLink.innerHTML = docLinkHtml;\n",
              "          element.appendChild(docLink);\n",
              "        }\n",
              "      </script>\n",
              "    </div>\n",
              "  </div>\n",
              "  "
            ]
          },
          "metadata": {},
          "execution_count": 3
        }
      ],
      "source": [
        "df.describe()"
      ]
    },
    {
      "cell_type": "code",
      "execution_count": 4,
      "metadata": {
        "colab": {
          "base_uri": "https://localhost:8080/"
        },
        "id": "sKR9fDZozjQE",
        "outputId": "7b61e691-abc5-4f9d-ac1e-ce8fae5e6b03"
      },
      "outputs": [
        {
          "output_type": "execute_result",
          "data": {
            "text/plain": [
              "<bound method DataFrame.info of         Rank                                              Name Platform  \\\n",
              "0          1                                        Wii Sports      Wii   \n",
              "1          2                                 Super Mario Bros.      NES   \n",
              "2          3                                    Mario Kart Wii      Wii   \n",
              "3          4                                 Wii Sports Resort      Wii   \n",
              "4          5                          Pokemon Red/Pokemon Blue       GB   \n",
              "...      ...                                               ...      ...   \n",
              "16593  16596                Woody Woodpecker in Crazy Castle 5      GBA   \n",
              "16594  16597                     Men in Black II: Alien Escape       GC   \n",
              "16595  16598  SCORE International Baja 1000: The Official Game      PS2   \n",
              "16596  16599                                        Know How 2       DS   \n",
              "16597  16600                                  Spirits & Spells      GBA   \n",
              "\n",
              "         Year         Genre   Publisher  NA_Sales  EU_Sales  JP_Sales  \\\n",
              "0      2006.0        Sports    Nintendo     41.49     29.02      3.77   \n",
              "1      1985.0      Platform    Nintendo     29.08      3.58      6.81   \n",
              "2      2008.0        Racing    Nintendo     15.85     12.88      3.79   \n",
              "3      2009.0        Sports    Nintendo     15.75     11.01      3.28   \n",
              "4      1996.0  Role-Playing    Nintendo     11.27      8.89     10.22   \n",
              "...       ...           ...         ...       ...       ...       ...   \n",
              "16593  2002.0      Platform       Kemco      0.01      0.00      0.00   \n",
              "16594  2003.0       Shooter  Infogrames      0.01      0.00      0.00   \n",
              "16595  2008.0        Racing  Activision      0.00      0.00      0.00   \n",
              "16596  2010.0        Puzzle    7G//AMES      0.00      0.01      0.00   \n",
              "16597  2003.0      Platform     Wanadoo      0.01      0.00      0.00   \n",
              "\n",
              "       Other_Sales  Global_Sales  \n",
              "0             8.46         82.74  \n",
              "1             0.77         40.24  \n",
              "2             3.31         35.82  \n",
              "3             2.96         33.00  \n",
              "4             1.00         31.37  \n",
              "...            ...           ...  \n",
              "16593         0.00          0.01  \n",
              "16594         0.00          0.01  \n",
              "16595         0.00          0.01  \n",
              "16596         0.00          0.01  \n",
              "16597         0.00          0.01  \n",
              "\n",
              "[16598 rows x 11 columns]>"
            ]
          },
          "metadata": {},
          "execution_count": 4
        }
      ],
      "source": [
        "df.info"
      ]
    },
    {
      "cell_type": "code",
      "execution_count": 5,
      "metadata": {
        "id": "fiLvFA_kzklD"
      },
      "outputs": [],
      "source": [
        "def label_area (row):\n",
        "   l = [row['NA_Sales'], row['EU_Sales'], row['JP_Sales'],row['Other_Sales']]\n",
        "  #  print(l)\n",
        "   m = max(l)\n",
        "   if m == row['NA_Sales']:\n",
        "     return 1\n",
        "   if m == row['EU_Sales']:\n",
        "     return 2\n",
        "   if m == row['JP_Sales']:\n",
        "     return 3\n",
        "   return 0\n",
        "  "
      ]
    },
    {
      "cell_type": "code",
      "execution_count": 6,
      "metadata": {
        "id": "ZyIYMz_t0uZy"
      },
      "outputs": [],
      "source": [
        "df['area_label'] = df.apply(lambda row: label_area(row), axis=1)"
      ]
    },
    {
      "cell_type": "code",
      "execution_count": 7,
      "metadata": {
        "colab": {
          "base_uri": "https://localhost:8080/",
          "height": 0
        },
        "id": "I7vdBb6i2IHg",
        "outputId": "908fff54-a2b1-434b-96be-eaff43f53697"
      },
      "outputs": [
        {
          "output_type": "execute_result",
          "data": {
            "text/plain": [
              "               Rank          Year      NA_Sales      EU_Sales      JP_Sales  \\\n",
              "count  16598.000000  16327.000000  16598.000000  16598.000000  16598.000000   \n",
              "mean    8300.605254   2006.406443      0.264667      0.146652      0.077782   \n",
              "std     4791.853933      5.828981      0.816683      0.505351      0.309291   \n",
              "min        1.000000   1980.000000      0.000000      0.000000      0.000000   \n",
              "25%     4151.250000   2003.000000      0.000000      0.000000      0.000000   \n",
              "50%     8300.500000   2007.000000      0.080000      0.020000      0.000000   \n",
              "75%    12449.750000   2010.000000      0.240000      0.110000      0.040000   \n",
              "max    16600.000000   2020.000000     41.490000     29.020000     10.220000   \n",
              "\n",
              "        Other_Sales  Global_Sales    area_label  \n",
              "count  16598.000000  16598.000000  16598.000000  \n",
              "mean       0.048063      0.537441      1.624292  \n",
              "std        0.188588      1.555028      0.853952  \n",
              "min        0.000000      0.010000      0.000000  \n",
              "25%        0.000000      0.060000      1.000000  \n",
              "50%        0.010000      0.170000      1.000000  \n",
              "75%        0.040000      0.470000      2.000000  \n",
              "max       10.570000     82.740000      3.000000  "
            ],
            "text/html": [
              "\n",
              "  <div id=\"df-7d1548b7-fb9f-4ed1-b420-418c6096fec1\">\n",
              "    <div class=\"colab-df-container\">\n",
              "      <div>\n",
              "<style scoped>\n",
              "    .dataframe tbody tr th:only-of-type {\n",
              "        vertical-align: middle;\n",
              "    }\n",
              "\n",
              "    .dataframe tbody tr th {\n",
              "        vertical-align: top;\n",
              "    }\n",
              "\n",
              "    .dataframe thead th {\n",
              "        text-align: right;\n",
              "    }\n",
              "</style>\n",
              "<table border=\"1\" class=\"dataframe\">\n",
              "  <thead>\n",
              "    <tr style=\"text-align: right;\">\n",
              "      <th></th>\n",
              "      <th>Rank</th>\n",
              "      <th>Year</th>\n",
              "      <th>NA_Sales</th>\n",
              "      <th>EU_Sales</th>\n",
              "      <th>JP_Sales</th>\n",
              "      <th>Other_Sales</th>\n",
              "      <th>Global_Sales</th>\n",
              "      <th>area_label</th>\n",
              "    </tr>\n",
              "  </thead>\n",
              "  <tbody>\n",
              "    <tr>\n",
              "      <th>count</th>\n",
              "      <td>16598.000000</td>\n",
              "      <td>16327.000000</td>\n",
              "      <td>16598.000000</td>\n",
              "      <td>16598.000000</td>\n",
              "      <td>16598.000000</td>\n",
              "      <td>16598.000000</td>\n",
              "      <td>16598.000000</td>\n",
              "      <td>16598.000000</td>\n",
              "    </tr>\n",
              "    <tr>\n",
              "      <th>mean</th>\n",
              "      <td>8300.605254</td>\n",
              "      <td>2006.406443</td>\n",
              "      <td>0.264667</td>\n",
              "      <td>0.146652</td>\n",
              "      <td>0.077782</td>\n",
              "      <td>0.048063</td>\n",
              "      <td>0.537441</td>\n",
              "      <td>1.624292</td>\n",
              "    </tr>\n",
              "    <tr>\n",
              "      <th>std</th>\n",
              "      <td>4791.853933</td>\n",
              "      <td>5.828981</td>\n",
              "      <td>0.816683</td>\n",
              "      <td>0.505351</td>\n",
              "      <td>0.309291</td>\n",
              "      <td>0.188588</td>\n",
              "      <td>1.555028</td>\n",
              "      <td>0.853952</td>\n",
              "    </tr>\n",
              "    <tr>\n",
              "      <th>min</th>\n",
              "      <td>1.000000</td>\n",
              "      <td>1980.000000</td>\n",
              "      <td>0.000000</td>\n",
              "      <td>0.000000</td>\n",
              "      <td>0.000000</td>\n",
              "      <td>0.000000</td>\n",
              "      <td>0.010000</td>\n",
              "      <td>0.000000</td>\n",
              "    </tr>\n",
              "    <tr>\n",
              "      <th>25%</th>\n",
              "      <td>4151.250000</td>\n",
              "      <td>2003.000000</td>\n",
              "      <td>0.000000</td>\n",
              "      <td>0.000000</td>\n",
              "      <td>0.000000</td>\n",
              "      <td>0.000000</td>\n",
              "      <td>0.060000</td>\n",
              "      <td>1.000000</td>\n",
              "    </tr>\n",
              "    <tr>\n",
              "      <th>50%</th>\n",
              "      <td>8300.500000</td>\n",
              "      <td>2007.000000</td>\n",
              "      <td>0.080000</td>\n",
              "      <td>0.020000</td>\n",
              "      <td>0.000000</td>\n",
              "      <td>0.010000</td>\n",
              "      <td>0.170000</td>\n",
              "      <td>1.000000</td>\n",
              "    </tr>\n",
              "    <tr>\n",
              "      <th>75%</th>\n",
              "      <td>12449.750000</td>\n",
              "      <td>2010.000000</td>\n",
              "      <td>0.240000</td>\n",
              "      <td>0.110000</td>\n",
              "      <td>0.040000</td>\n",
              "      <td>0.040000</td>\n",
              "      <td>0.470000</td>\n",
              "      <td>2.000000</td>\n",
              "    </tr>\n",
              "    <tr>\n",
              "      <th>max</th>\n",
              "      <td>16600.000000</td>\n",
              "      <td>2020.000000</td>\n",
              "      <td>41.490000</td>\n",
              "      <td>29.020000</td>\n",
              "      <td>10.220000</td>\n",
              "      <td>10.570000</td>\n",
              "      <td>82.740000</td>\n",
              "      <td>3.000000</td>\n",
              "    </tr>\n",
              "  </tbody>\n",
              "</table>\n",
              "</div>\n",
              "      <button class=\"colab-df-convert\" onclick=\"convertToInteractive('df-7d1548b7-fb9f-4ed1-b420-418c6096fec1')\"\n",
              "              title=\"Convert this dataframe to an interactive table.\"\n",
              "              style=\"display:none;\">\n",
              "        \n",
              "  <svg xmlns=\"http://www.w3.org/2000/svg\" height=\"24px\"viewBox=\"0 0 24 24\"\n",
              "       width=\"24px\">\n",
              "    <path d=\"M0 0h24v24H0V0z\" fill=\"none\"/>\n",
              "    <path d=\"M18.56 5.44l.94 2.06.94-2.06 2.06-.94-2.06-.94-.94-2.06-.94 2.06-2.06.94zm-11 1L8.5 8.5l.94-2.06 2.06-.94-2.06-.94L8.5 2.5l-.94 2.06-2.06.94zm10 10l.94 2.06.94-2.06 2.06-.94-2.06-.94-.94-2.06-.94 2.06-2.06.94z\"/><path d=\"M17.41 7.96l-1.37-1.37c-.4-.4-.92-.59-1.43-.59-.52 0-1.04.2-1.43.59L10.3 9.45l-7.72 7.72c-.78.78-.78 2.05 0 2.83L4 21.41c.39.39.9.59 1.41.59.51 0 1.02-.2 1.41-.59l7.78-7.78 2.81-2.81c.8-.78.8-2.07 0-2.86zM5.41 20L4 18.59l7.72-7.72 1.47 1.35L5.41 20z\"/>\n",
              "  </svg>\n",
              "      </button>\n",
              "      \n",
              "  <style>\n",
              "    .colab-df-container {\n",
              "      display:flex;\n",
              "      flex-wrap:wrap;\n",
              "      gap: 12px;\n",
              "    }\n",
              "\n",
              "    .colab-df-convert {\n",
              "      background-color: #E8F0FE;\n",
              "      border: none;\n",
              "      border-radius: 50%;\n",
              "      cursor: pointer;\n",
              "      display: none;\n",
              "      fill: #1967D2;\n",
              "      height: 32px;\n",
              "      padding: 0 0 0 0;\n",
              "      width: 32px;\n",
              "    }\n",
              "\n",
              "    .colab-df-convert:hover {\n",
              "      background-color: #E2EBFA;\n",
              "      box-shadow: 0px 1px 2px rgba(60, 64, 67, 0.3), 0px 1px 3px 1px rgba(60, 64, 67, 0.15);\n",
              "      fill: #174EA6;\n",
              "    }\n",
              "\n",
              "    [theme=dark] .colab-df-convert {\n",
              "      background-color: #3B4455;\n",
              "      fill: #D2E3FC;\n",
              "    }\n",
              "\n",
              "    [theme=dark] .colab-df-convert:hover {\n",
              "      background-color: #434B5C;\n",
              "      box-shadow: 0px 1px 3px 1px rgba(0, 0, 0, 0.15);\n",
              "      filter: drop-shadow(0px 1px 2px rgba(0, 0, 0, 0.3));\n",
              "      fill: #FFFFFF;\n",
              "    }\n",
              "  </style>\n",
              "\n",
              "      <script>\n",
              "        const buttonEl =\n",
              "          document.querySelector('#df-7d1548b7-fb9f-4ed1-b420-418c6096fec1 button.colab-df-convert');\n",
              "        buttonEl.style.display =\n",
              "          google.colab.kernel.accessAllowed ? 'block' : 'none';\n",
              "\n",
              "        async function convertToInteractive(key) {\n",
              "          const element = document.querySelector('#df-7d1548b7-fb9f-4ed1-b420-418c6096fec1');\n",
              "          const dataTable =\n",
              "            await google.colab.kernel.invokeFunction('convertToInteractive',\n",
              "                                                     [key], {});\n",
              "          if (!dataTable) return;\n",
              "\n",
              "          const docLinkHtml = 'Like what you see? Visit the ' +\n",
              "            '<a target=\"_blank\" href=https://colab.research.google.com/notebooks/data_table.ipynb>data table notebook</a>'\n",
              "            + ' to learn more about interactive tables.';\n",
              "          element.innerHTML = '';\n",
              "          dataTable['output_type'] = 'display_data';\n",
              "          await google.colab.output.renderOutput(dataTable, element);\n",
              "          const docLink = document.createElement('div');\n",
              "          docLink.innerHTML = docLinkHtml;\n",
              "          element.appendChild(docLink);\n",
              "        }\n",
              "      </script>\n",
              "    </div>\n",
              "  </div>\n",
              "  "
            ]
          },
          "metadata": {},
          "execution_count": 7
        }
      ],
      "source": [
        "df.describe()"
      ]
    },
    {
      "cell_type": "code",
      "execution_count": 8,
      "metadata": {
        "colab": {
          "base_uri": "https://localhost:8080/"
        },
        "id": "5gHHh3vI3Nqm",
        "outputId": "043ebc64-217e-4895-8b91-fc59da4652a5"
      },
      "outputs": [
        {
          "output_type": "execute_result",
          "data": {
            "text/plain": [
              "array(['Nintendo', 'Microsoft Game Studios', 'Take-Two Interactive',\n",
              "       'Sony Computer Entertainment', 'Activision', 'Ubisoft',\n",
              "       'Bethesda Softworks', 'Electronic Arts', 'Sega', 'SquareSoft',\n",
              "       'Atari', '505 Games', 'Capcom', 'GT Interactive',\n",
              "       'Konami Digital Entertainment',\n",
              "       'Sony Computer Entertainment Europe', 'Square Enix', 'LucasArts',\n",
              "       'Virgin Interactive', 'Warner Bros. Interactive Entertainment',\n",
              "       'Universal Interactive', 'Eidos Interactive', 'RedOctane',\n",
              "       'Vivendi Games', 'Enix Corporation', 'Namco Bandai Games',\n",
              "       'Palcom', 'Hasbro Interactive', 'THQ', 'Fox Interactive',\n",
              "       'Acclaim Entertainment', 'MTV Games', 'Disney Interactive Studios',\n",
              "       nan, 'Majesco Entertainment', 'Codemasters', 'Red Orb', 'Level 5',\n",
              "       'Arena Entertainment', 'Midway Games', 'JVC', 'Deep Silver',\n",
              "       '989 Studios', 'NCSoft', 'UEP Systems', 'Parker Bros.', 'Maxis',\n",
              "       'Imagic', 'Tecmo Koei', 'Valve Software', 'ASCII Entertainment',\n",
              "       'Mindscape', 'Infogrames', 'Unknown', 'Square', 'Valve',\n",
              "       'Activision Value', 'Banpresto', 'D3Publisher',\n",
              "       'Oxygen Interactive', 'Red Storm Entertainment', 'Video System',\n",
              "       'Hello Games', 'Global Star', 'Gotham Games', 'Westwood Studios',\n",
              "       'GungHo', 'Crave Entertainment', 'Hudson Soft', 'Coleco',\n",
              "       'Rising Star Games', 'Atlus', 'TDK Mediactive', 'ASC Games',\n",
              "       'Zoo Games', 'Accolade', 'Sony Online Entertainment', '3DO', 'RTL',\n",
              "       'Natsume', 'Focus Home Interactive', 'Alchemist',\n",
              "       'Black Label Games', 'SouthPeak Games', 'Mastertronic', 'Ocean',\n",
              "       'Zoo Digital Publishing', 'Psygnosis', 'City Interactive',\n",
              "       'Empire Interactive', 'Success', 'Compile', 'Russel', 'Taito',\n",
              "       'Agetec', 'GSP', 'Microprose', 'Play It', 'Slightly Mad Studios',\n",
              "       'Tomy Corporation', 'Sammy Corporation', 'Koch Media',\n",
              "       'Game Factory', 'Titus', 'Marvelous Entertainment', 'Genki',\n",
              "       'Mojang', 'Pinnacle', 'CTO SpA', 'TalonSoft', 'Crystal Dynamics',\n",
              "       'SCi', 'Quelle', 'mixi, Inc', 'Rage Software', 'Ubisoft Annecy',\n",
              "       'Scholastic Inc.', 'Interplay', 'Mystique', 'ChunSoft',\n",
              "       'Square EA', '20th Century Fox Video Games', 'Avanquest Software',\n",
              "       'Hudson Entertainment', 'Nordic Games', 'Men-A-Vision', 'Nobilis',\n",
              "       'Big Ben Interactive', 'Touchstone', 'Spike', 'Jester Interactive',\n",
              "       'Nippon Ichi Software', 'LEGO Media', 'Quest',\n",
              "       'Illusion Softworks', 'Tigervision', 'Funbox Media',\n",
              "       'Rocket Company', 'Metro 3D', 'Mattel Interactive', 'IE Institute',\n",
              "       'Rondomedia', 'Sony Computer Entertainment America',\n",
              "       'Universal Gamex', 'Ghostlight', 'Wizard Video Games',\n",
              "       'BMG Interactive Entertainment', 'PQube', 'Trion Worlds', 'Laguna',\n",
              "       'Ignition Entertainment', 'Takara', 'Kadokawa Shoten', 'Destineer',\n",
              "       'Enterbrain', 'Xseed Games', 'Imagineer',\n",
              "       'System 3 Arcade Software', 'CPG Products', 'Aruze Corp',\n",
              "       'Gamebridge', 'Midas Interactive Entertainment', 'Jaleco',\n",
              "       'Answer Software', 'XS Games', 'Activision Blizzard',\n",
              "       'Pack In Soft', 'Rebellion', 'Xplosiv', 'Ultravision',\n",
              "       'GameMill Entertainment', 'Wanadoo', 'NovaLogic', 'Telltale Games',\n",
              "       'Epoch', 'BAM! Entertainment', 'Knowledge Adventure', 'Mastiff',\n",
              "       'Tetris Online', 'Harmonix Music Systems', 'ESP', 'TYO',\n",
              "       'Telegames', 'Mud Duck Productions', 'Screenlife', 'Pioneer LDC',\n",
              "       'Magical Company', 'Mentor Interactive', 'Kemco',\n",
              "       'Human Entertainment', 'Avanquest', 'Data Age',\n",
              "       'Electronic Arts Victor', 'Black Bean Games', 'Jack of All Games',\n",
              "       '989 Sports', 'Takara Tomy', 'Media Rings', 'Elf', 'Kalypso Media',\n",
              "       'Starfish', 'Zushi Games', 'Jorudan', 'Destination Software, Inc',\n",
              "       'New', 'Brash Entertainment', 'ITT Family Games', 'PopCap Games',\n",
              "       'Home Entertainment Suppliers', 'Ackkstudios', 'Starpath Corp.',\n",
              "       'P2 Games', 'BPS', 'Gathering of Developers', 'NewKidCo',\n",
              "       'Storm City Games', 'CokeM Interactive', 'CBS Electronics',\n",
              "       'Magix', 'Marvelous Interactive', 'Nihon Falcom Corporation',\n",
              "       'Wargaming.net', 'Angel Studios', 'Arc System Works', 'Playmates',\n",
              "       'SNK Playmore', 'Hamster Corporation', 'From Software',\n",
              "       'Nippon Columbia', 'Nichibutsu', 'Little Orbit',\n",
              "       'Conspiracy Entertainment', 'DTP Entertainment', 'Hect',\n",
              "       'Mumbo Jumbo', 'Pacific Century Cyber Works', 'Indie Games',\n",
              "       'Liquid Games', 'NEC', 'Axela', 'ArtDink', 'Sunsoft', 'Gust',\n",
              "       'SNK', 'NEC Interchannel', 'FuRyu', 'Xing Entertainment',\n",
              "       'ValuSoft', 'Victor Interactive', 'Detn8 Games',\n",
              "       'American Softworks', 'Nordcurrent', 'Bomb', 'Falcom Corporation',\n",
              "       'AQ Interactive', 'CCP', 'Milestone S.r.l.', 'Sears',\n",
              "       'JoWood Productions', 'Seta Corporation', 'On Demand', 'NCS',\n",
              "       'Aspyr', 'Gremlin Interactive Ltd', 'Agatsuma Entertainment',\n",
              "       'Compile Heart', 'Culture Brain', 'Mad Catz', 'Shogakukan',\n",
              "       'Merscom LLC', 'Rebellion Developments', 'Nippon Telenet',\n",
              "       'TDK Core', 'bitComposer Games', 'Foreign Media Games', 'Astragon',\n",
              "       'SSI', 'Kadokawa Games', 'Idea Factory',\n",
              "       'Performance Designed Products', 'Asylum Entertainment',\n",
              "       'Core Design Ltd.', 'PlayV', 'UFO Interactive',\n",
              "       'Idea Factory International', 'Playlogic Game Factory',\n",
              "       'Essential Games', 'Adeline Software', 'Funcom',\n",
              "       'Panther Software', 'Blast! Entertainment Ltd', 'Game Life',\n",
              "       'DSI Games', 'Avalon Interactive', 'Popcorn Arcade',\n",
              "       'Neko Entertainment', 'Vir2L Studios', 'Aques', 'Syscom',\n",
              "       'White Park Bay Software', 'System 3', 'Vatical Entertainment',\n",
              "       'Daedalic', 'EA Games', 'Media Factory', 'Vic Tokai',\n",
              "       'The Adventure Company', 'Game Arts', 'Broccoli', 'Acquire',\n",
              "       'General Entertainment', 'Excalibur Publishing', 'Imadio',\n",
              "       'Swing! Entertainment', 'Sony Music Entertainment', 'Aqua Plus',\n",
              "       'Paradox Interactive', 'Hip Interactive',\n",
              "       'DreamCatcher Interactive', 'Tripwire Interactive', 'Sting',\n",
              "       'Yacht Club Games', 'SCS Software', 'Bigben Interactive',\n",
              "       'Havas Interactive', 'Slitherine Software', 'Graffiti', 'Funsta',\n",
              "       'Telstar', 'U.S. Gold', 'DreamWorks Interactive',\n",
              "       'Data Design Interactive', 'MTO', 'DHM Interactive', 'FunSoft',\n",
              "       'SPS', 'Bohemia Interactive', 'Reef Entertainment',\n",
              "       'Tru Blu Entertainment', 'Moss', 'T&E Soft', 'O-Games',\n",
              "       'Aksys Games', 'NDA Productions', 'Data East',\n",
              "       'Time Warner Interactive', 'Gainax Network Systems', 'Daito',\n",
              "       'O3 Entertainment', 'Gameloft', 'Xicat Interactive',\n",
              "       'Simon & Schuster Interactive', 'Valcon Games', 'PopTop Software',\n",
              "       'TOHO', 'HMH Interactive', '5pb', 'Cave',\n",
              "       'CDV Software Entertainment', 'Microids', 'PM Studios', 'Paon',\n",
              "       'Micro Cabin', 'GameTek', 'Benesse', 'Type-Moon',\n",
              "       'Enjoy Gaming ltd.', 'Asmik Corp', 'Interplay Productions',\n",
              "       'Asmik Ace Entertainment', 'inXile Entertainment', 'Image Epoch',\n",
              "       'Phantom EFX', 'Evolved Games', 'responDESIGN',\n",
              "       'Culture Publishers', 'Griffin International', 'Hackberry',\n",
              "       'Hearty Robin', 'Nippon Amuse', 'Origin Systems', 'Seventh Chord',\n",
              "       'Mitsui', 'Milestone', 'Abylight', 'Flight-Plan', 'Glams', 'Locus',\n",
              "       'Warp', 'Daedalic Entertainment', 'Alternative Software',\n",
              "       'Myelin Media', 'Mercury Games', 'Irem Software Engineering',\n",
              "       'Sunrise Interactive', 'Elite', 'Evolution Games', 'Tivola',\n",
              "       'Global A Entertainment', 'Edia', 'Athena', 'Aria', 'Gamecock',\n",
              "       'Tommo', 'Altron', 'Happinet', 'iWin', 'Media Works', 'Fortyfive',\n",
              "       'Revolution Software', 'Imax', 'Crimson Cow', '10TACLE Studios',\n",
              "       'Groove Games', 'Pack-In-Video', 'Insomniac Games',\n",
              "       'Ascaron Entertainment GmbH', 'Asgard', 'Ecole', 'Yumedia',\n",
              "       'Phenomedia', 'HAL Laboratory', 'Grand Prix Games', 'DigiCube',\n",
              "       'Creative Core', 'Kaga Create', 'WayForward Technologies',\n",
              "       'LSP Games', 'ASCII Media Works', 'Coconuts Japan', 'Arika',\n",
              "       'Ertain', 'Marvel Entertainment', 'Prototype',\n",
              "       'TopWare Interactive', 'Phantagram', '1C Company',\n",
              "       'The Learning Company', 'TechnoSoft', 'Vap', 'Misawa', 'Tradewest',\n",
              "       'Team17 Software', 'Yeti', 'Pow', 'Navarre Corp', 'MediaQuest',\n",
              "       'Max Five', 'Comfort', 'Monte Christo Multimedia', 'Pony Canyon',\n",
              "       'Riverhillsoft', 'Summitsoft', 'Milestone S.r.l', 'Playmore',\n",
              "       'MLB.com', 'Kool Kizz', 'Flashpoint Games', '49Games',\n",
              "       'Legacy Interactive', 'Alawar Entertainment', 'CyberFront',\n",
              "       'Cloud Imperium Games Corporation', 'Societa',\n",
              "       'Virtual Play Games', 'Interchannel', 'Sonnet', 'Experience Inc.',\n",
              "       'Zenrin', 'Iceberg Interactive', 'Ivolgamus', '2D Boy',\n",
              "       'MC2 Entertainment', 'Kando Games', 'Just Flight', 'Office Create',\n",
              "       'Mamba Games', 'Fields', 'Princess Soft', 'Maximum Family Games',\n",
              "       'Berkeley', 'Fuji', 'Dusenberry Martin Racing', 'imageepoch Inc.',\n",
              "       'Big Fish Games', 'Her Interactive', 'Kamui', 'ASK',\n",
              "       'Headup Games', 'KSS', 'Cygames', 'KID', 'Quinrose', 'Sunflowers',\n",
              "       'dramatic create', 'TGL', 'Encore', 'Extreme Entertainment Group',\n",
              "       'Intergrow', 'G.Rev', 'Sweets', 'Kokopeli Digital Studios',\n",
              "       'Number None', 'Nexon', 'id Software', 'BushiRoad', 'Tryfirst',\n",
              "       'Strategy First', '7G//AMES', 'GN Software', \"Yuke's\",\n",
              "       'Easy Interactive', 'Licensed 4U', 'FuRyu Corporation',\n",
              "       'Lexicon Entertainment', 'Paon Corporation', 'Kids Station', 'GOA',\n",
              "       'Graphsim Entertainment', 'King Records', 'Introversion Software',\n",
              "       'Minato Station', 'Devolver Digital', 'Blue Byte', 'Gaga',\n",
              "       'Yamasa Entertainment', 'Plenty', 'Views', 'fonfun', 'NetRevo',\n",
              "       'Codemasters Online', 'Quintet', 'Phoenix Games', 'Dorart',\n",
              "       'Marvelous Games', 'Focus Multimedia', 'Imageworks',\n",
              "       'Karin Entertainment', 'Aerosoft', 'Technos Japan Corporation',\n",
              "       'Gakken', 'Mirai Shounen', 'Datam Polystar', 'Saurus', 'HuneX',\n",
              "       'Revolution (Japan)', 'Giza10', 'Visco', 'Alvion', 'Mycom', 'Giga',\n",
              "       'Warashi', 'System Soft', 'Sold Out', 'Lighthouse Interactive',\n",
              "       'Masque Publishing', 'RED Entertainment', 'Michaelsoft',\n",
              "       'Media Entertainment', 'New World Computing', 'Genterprise',\n",
              "       'Interworks Unlimited, Inc.', 'Boost On', 'Stainless Games',\n",
              "       'EON Digital Entertainment', 'Epic Games', 'Naxat Soft',\n",
              "       'Ascaron Entertainment', 'Piacci', 'Nitroplus',\n",
              "       'Paradox Development', 'Otomate', 'Ongakukan', 'Commseed',\n",
              "       'Inti Creates', 'Takuyo', 'Interchannel-Holon', 'Rain Games',\n",
              "       'UIG Entertainment'], dtype=object)"
            ]
          },
          "metadata": {},
          "execution_count": 8
        }
      ],
      "source": [
        "unique_publisher = df.Publisher.unique()\n",
        "unique_publisher"
      ]
    },
    {
      "cell_type": "code",
      "execution_count": 9,
      "metadata": {
        "id": "ftGaG6KJ3onJ"
      },
      "outputs": [],
      "source": [
        "def label_publisher(row):\n",
        "  for i in range(len(unique_publisher)):\n",
        "    if row['Publisher'] == unique_publisher[i]:\n",
        "      return i"
      ]
    },
    {
      "cell_type": "code",
      "execution_count": 10,
      "metadata": {
        "id": "Lkeosu-Y404r"
      },
      "outputs": [],
      "source": [
        "df['publisher_label'] = df.apply(lambda row: label_publisher(row), axis=1)\n"
      ]
    },
    {
      "cell_type": "code",
      "execution_count": 11,
      "metadata": {
        "colab": {
          "base_uri": "https://localhost:8080/",
          "height": 0
        },
        "id": "DOJ2crV15FaD",
        "outputId": "06626294-83eb-47b5-fa71-ee2c602bbba0"
      },
      "outputs": [
        {
          "output_type": "execute_result",
          "data": {
            "text/plain": [
              "               Rank          Year      NA_Sales      EU_Sales      JP_Sales  \\\n",
              "count  16598.000000  16327.000000  16598.000000  16598.000000  16598.000000   \n",
              "mean    8300.605254   2006.406443      0.264667      0.146652      0.077782   \n",
              "std     4791.853933      5.828981      0.816683      0.505351      0.309291   \n",
              "min        1.000000   1980.000000      0.000000      0.000000      0.000000   \n",
              "25%     4151.250000   2003.000000      0.000000      0.000000      0.000000   \n",
              "50%     8300.500000   2007.000000      0.080000      0.020000      0.000000   \n",
              "75%    12449.750000   2010.000000      0.240000      0.110000      0.040000   \n",
              "max    16600.000000   2020.000000     41.490000     29.020000     10.220000   \n",
              "\n",
              "        Other_Sales  Global_Sales    area_label  publisher_label  \n",
              "count  16598.000000  16598.000000  16598.000000     16540.000000  \n",
              "mean       0.048063      0.537441      1.624292        61.632164  \n",
              "std        0.188588      1.555028      0.853952       102.156301  \n",
              "min        0.000000      0.010000      0.000000         0.000000  \n",
              "25%        0.000000      0.060000      1.000000         7.000000  \n",
              "50%        0.010000      0.170000      1.000000        19.000000  \n",
              "75%        0.040000      0.470000      2.000000        58.000000  \n",
              "max       10.570000     82.740000      3.000000       578.000000  "
            ],
            "text/html": [
              "\n",
              "  <div id=\"df-567145a7-e5dc-4db4-a26a-7da10e85ddf5\">\n",
              "    <div class=\"colab-df-container\">\n",
              "      <div>\n",
              "<style scoped>\n",
              "    .dataframe tbody tr th:only-of-type {\n",
              "        vertical-align: middle;\n",
              "    }\n",
              "\n",
              "    .dataframe tbody tr th {\n",
              "        vertical-align: top;\n",
              "    }\n",
              "\n",
              "    .dataframe thead th {\n",
              "        text-align: right;\n",
              "    }\n",
              "</style>\n",
              "<table border=\"1\" class=\"dataframe\">\n",
              "  <thead>\n",
              "    <tr style=\"text-align: right;\">\n",
              "      <th></th>\n",
              "      <th>Rank</th>\n",
              "      <th>Year</th>\n",
              "      <th>NA_Sales</th>\n",
              "      <th>EU_Sales</th>\n",
              "      <th>JP_Sales</th>\n",
              "      <th>Other_Sales</th>\n",
              "      <th>Global_Sales</th>\n",
              "      <th>area_label</th>\n",
              "      <th>publisher_label</th>\n",
              "    </tr>\n",
              "  </thead>\n",
              "  <tbody>\n",
              "    <tr>\n",
              "      <th>count</th>\n",
              "      <td>16598.000000</td>\n",
              "      <td>16327.000000</td>\n",
              "      <td>16598.000000</td>\n",
              "      <td>16598.000000</td>\n",
              "      <td>16598.000000</td>\n",
              "      <td>16598.000000</td>\n",
              "      <td>16598.000000</td>\n",
              "      <td>16598.000000</td>\n",
              "      <td>16540.000000</td>\n",
              "    </tr>\n",
              "    <tr>\n",
              "      <th>mean</th>\n",
              "      <td>8300.605254</td>\n",
              "      <td>2006.406443</td>\n",
              "      <td>0.264667</td>\n",
              "      <td>0.146652</td>\n",
              "      <td>0.077782</td>\n",
              "      <td>0.048063</td>\n",
              "      <td>0.537441</td>\n",
              "      <td>1.624292</td>\n",
              "      <td>61.632164</td>\n",
              "    </tr>\n",
              "    <tr>\n",
              "      <th>std</th>\n",
              "      <td>4791.853933</td>\n",
              "      <td>5.828981</td>\n",
              "      <td>0.816683</td>\n",
              "      <td>0.505351</td>\n",
              "      <td>0.309291</td>\n",
              "      <td>0.188588</td>\n",
              "      <td>1.555028</td>\n",
              "      <td>0.853952</td>\n",
              "      <td>102.156301</td>\n",
              "    </tr>\n",
              "    <tr>\n",
              "      <th>min</th>\n",
              "      <td>1.000000</td>\n",
              "      <td>1980.000000</td>\n",
              "      <td>0.000000</td>\n",
              "      <td>0.000000</td>\n",
              "      <td>0.000000</td>\n",
              "      <td>0.000000</td>\n",
              "      <td>0.010000</td>\n",
              "      <td>0.000000</td>\n",
              "      <td>0.000000</td>\n",
              "    </tr>\n",
              "    <tr>\n",
              "      <th>25%</th>\n",
              "      <td>4151.250000</td>\n",
              "      <td>2003.000000</td>\n",
              "      <td>0.000000</td>\n",
              "      <td>0.000000</td>\n",
              "      <td>0.000000</td>\n",
              "      <td>0.000000</td>\n",
              "      <td>0.060000</td>\n",
              "      <td>1.000000</td>\n",
              "      <td>7.000000</td>\n",
              "    </tr>\n",
              "    <tr>\n",
              "      <th>50%</th>\n",
              "      <td>8300.500000</td>\n",
              "      <td>2007.000000</td>\n",
              "      <td>0.080000</td>\n",
              "      <td>0.020000</td>\n",
              "      <td>0.000000</td>\n",
              "      <td>0.010000</td>\n",
              "      <td>0.170000</td>\n",
              "      <td>1.000000</td>\n",
              "      <td>19.000000</td>\n",
              "    </tr>\n",
              "    <tr>\n",
              "      <th>75%</th>\n",
              "      <td>12449.750000</td>\n",
              "      <td>2010.000000</td>\n",
              "      <td>0.240000</td>\n",
              "      <td>0.110000</td>\n",
              "      <td>0.040000</td>\n",
              "      <td>0.040000</td>\n",
              "      <td>0.470000</td>\n",
              "      <td>2.000000</td>\n",
              "      <td>58.000000</td>\n",
              "    </tr>\n",
              "    <tr>\n",
              "      <th>max</th>\n",
              "      <td>16600.000000</td>\n",
              "      <td>2020.000000</td>\n",
              "      <td>41.490000</td>\n",
              "      <td>29.020000</td>\n",
              "      <td>10.220000</td>\n",
              "      <td>10.570000</td>\n",
              "      <td>82.740000</td>\n",
              "      <td>3.000000</td>\n",
              "      <td>578.000000</td>\n",
              "    </tr>\n",
              "  </tbody>\n",
              "</table>\n",
              "</div>\n",
              "      <button class=\"colab-df-convert\" onclick=\"convertToInteractive('df-567145a7-e5dc-4db4-a26a-7da10e85ddf5')\"\n",
              "              title=\"Convert this dataframe to an interactive table.\"\n",
              "              style=\"display:none;\">\n",
              "        \n",
              "  <svg xmlns=\"http://www.w3.org/2000/svg\" height=\"24px\"viewBox=\"0 0 24 24\"\n",
              "       width=\"24px\">\n",
              "    <path d=\"M0 0h24v24H0V0z\" fill=\"none\"/>\n",
              "    <path d=\"M18.56 5.44l.94 2.06.94-2.06 2.06-.94-2.06-.94-.94-2.06-.94 2.06-2.06.94zm-11 1L8.5 8.5l.94-2.06 2.06-.94-2.06-.94L8.5 2.5l-.94 2.06-2.06.94zm10 10l.94 2.06.94-2.06 2.06-.94-2.06-.94-.94-2.06-.94 2.06-2.06.94z\"/><path d=\"M17.41 7.96l-1.37-1.37c-.4-.4-.92-.59-1.43-.59-.52 0-1.04.2-1.43.59L10.3 9.45l-7.72 7.72c-.78.78-.78 2.05 0 2.83L4 21.41c.39.39.9.59 1.41.59.51 0 1.02-.2 1.41-.59l7.78-7.78 2.81-2.81c.8-.78.8-2.07 0-2.86zM5.41 20L4 18.59l7.72-7.72 1.47 1.35L5.41 20z\"/>\n",
              "  </svg>\n",
              "      </button>\n",
              "      \n",
              "  <style>\n",
              "    .colab-df-container {\n",
              "      display:flex;\n",
              "      flex-wrap:wrap;\n",
              "      gap: 12px;\n",
              "    }\n",
              "\n",
              "    .colab-df-convert {\n",
              "      background-color: #E8F0FE;\n",
              "      border: none;\n",
              "      border-radius: 50%;\n",
              "      cursor: pointer;\n",
              "      display: none;\n",
              "      fill: #1967D2;\n",
              "      height: 32px;\n",
              "      padding: 0 0 0 0;\n",
              "      width: 32px;\n",
              "    }\n",
              "\n",
              "    .colab-df-convert:hover {\n",
              "      background-color: #E2EBFA;\n",
              "      box-shadow: 0px 1px 2px rgba(60, 64, 67, 0.3), 0px 1px 3px 1px rgba(60, 64, 67, 0.15);\n",
              "      fill: #174EA6;\n",
              "    }\n",
              "\n",
              "    [theme=dark] .colab-df-convert {\n",
              "      background-color: #3B4455;\n",
              "      fill: #D2E3FC;\n",
              "    }\n",
              "\n",
              "    [theme=dark] .colab-df-convert:hover {\n",
              "      background-color: #434B5C;\n",
              "      box-shadow: 0px 1px 3px 1px rgba(0, 0, 0, 0.15);\n",
              "      filter: drop-shadow(0px 1px 2px rgba(0, 0, 0, 0.3));\n",
              "      fill: #FFFFFF;\n",
              "    }\n",
              "  </style>\n",
              "\n",
              "      <script>\n",
              "        const buttonEl =\n",
              "          document.querySelector('#df-567145a7-e5dc-4db4-a26a-7da10e85ddf5 button.colab-df-convert');\n",
              "        buttonEl.style.display =\n",
              "          google.colab.kernel.accessAllowed ? 'block' : 'none';\n",
              "\n",
              "        async function convertToInteractive(key) {\n",
              "          const element = document.querySelector('#df-567145a7-e5dc-4db4-a26a-7da10e85ddf5');\n",
              "          const dataTable =\n",
              "            await google.colab.kernel.invokeFunction('convertToInteractive',\n",
              "                                                     [key], {});\n",
              "          if (!dataTable) return;\n",
              "\n",
              "          const docLinkHtml = 'Like what you see? Visit the ' +\n",
              "            '<a target=\"_blank\" href=https://colab.research.google.com/notebooks/data_table.ipynb>data table notebook</a>'\n",
              "            + ' to learn more about interactive tables.';\n",
              "          element.innerHTML = '';\n",
              "          dataTable['output_type'] = 'display_data';\n",
              "          await google.colab.output.renderOutput(dataTable, element);\n",
              "          const docLink = document.createElement('div');\n",
              "          docLink.innerHTML = docLinkHtml;\n",
              "          element.appendChild(docLink);\n",
              "        }\n",
              "      </script>\n",
              "    </div>\n",
              "  </div>\n",
              "  "
            ]
          },
          "metadata": {},
          "execution_count": 11
        }
      ],
      "source": [
        "df.describe()"
      ]
    },
    {
      "cell_type": "code",
      "execution_count": 12,
      "metadata": {
        "colab": {
          "base_uri": "https://localhost:8080/"
        },
        "id": "sckhdJzo5MYZ",
        "outputId": "28f24ff0-eb5c-486e-bdfc-f9e71acb285e"
      },
      "outputs": [
        {
          "output_type": "execute_result",
          "data": {
            "text/plain": [
              "array(['Sports', 'Platform', 'Racing', 'Role-Playing', 'Puzzle', 'Misc',\n",
              "       'Shooter', 'Simulation', 'Action', 'Fighting', 'Adventure',\n",
              "       'Strategy'], dtype=object)"
            ]
          },
          "metadata": {},
          "execution_count": 12
        }
      ],
      "source": [
        "unique_genre = df.Genre.unique()\n",
        "unique_genre"
      ]
    },
    {
      "cell_type": "code",
      "execution_count": 13,
      "metadata": {
        "id": "kl5-JAOa5XF6"
      },
      "outputs": [],
      "source": [
        "def label_genre(row):\n",
        "  for i in range(len(unique_genre)):\n",
        "    if row['Genre'] == unique_genre[i]:\n",
        "      return i"
      ]
    },
    {
      "cell_type": "code",
      "execution_count": 14,
      "metadata": {
        "id": "9vBZGgAL5fEj"
      },
      "outputs": [],
      "source": [
        "df['genre_label'] = df.apply(lambda row: label_genre(row), axis=1)"
      ]
    },
    {
      "cell_type": "code",
      "execution_count": 15,
      "metadata": {
        "colab": {
          "base_uri": "https://localhost:8080/",
          "height": 0
        },
        "id": "cXGXou5q5lfJ",
        "outputId": "587c0121-1e8a-4f18-a621-4f2a8d1fc9af"
      },
      "outputs": [
        {
          "output_type": "execute_result",
          "data": {
            "text/plain": [
              "               Rank          Year      NA_Sales      EU_Sales      JP_Sales  \\\n",
              "count  16598.000000  16327.000000  16598.000000  16598.000000  16598.000000   \n",
              "mean    8300.605254   2006.406443      0.264667      0.146652      0.077782   \n",
              "std     4791.853933      5.828981      0.816683      0.505351      0.309291   \n",
              "min        1.000000   1980.000000      0.000000      0.000000      0.000000   \n",
              "25%     4151.250000   2003.000000      0.000000      0.000000      0.000000   \n",
              "50%     8300.500000   2007.000000      0.080000      0.020000      0.000000   \n",
              "75%    12449.750000   2010.000000      0.240000      0.110000      0.040000   \n",
              "max    16600.000000   2020.000000     41.490000     29.020000     10.220000   \n",
              "\n",
              "        Other_Sales  Global_Sales    area_label  publisher_label   genre_label  \n",
              "count  16598.000000  16598.000000  16598.000000     16540.000000  16598.000000  \n",
              "mean       0.048063      0.537441      1.624292        61.632164      5.260333  \n",
              "std        0.188588      1.555028      0.853952       102.156301      3.421823  \n",
              "min        0.000000      0.010000      0.000000         0.000000      0.000000  \n",
              "25%        0.000000      0.060000      1.000000         7.000000      2.000000  \n",
              "50%        0.010000      0.170000      1.000000        19.000000      6.000000  \n",
              "75%        0.040000      0.470000      2.000000        58.000000      8.000000  \n",
              "max       10.570000     82.740000      3.000000       578.000000     11.000000  "
            ],
            "text/html": [
              "\n",
              "  <div id=\"df-f9ab04ba-4e27-4900-a958-e38500ad439e\">\n",
              "    <div class=\"colab-df-container\">\n",
              "      <div>\n",
              "<style scoped>\n",
              "    .dataframe tbody tr th:only-of-type {\n",
              "        vertical-align: middle;\n",
              "    }\n",
              "\n",
              "    .dataframe tbody tr th {\n",
              "        vertical-align: top;\n",
              "    }\n",
              "\n",
              "    .dataframe thead th {\n",
              "        text-align: right;\n",
              "    }\n",
              "</style>\n",
              "<table border=\"1\" class=\"dataframe\">\n",
              "  <thead>\n",
              "    <tr style=\"text-align: right;\">\n",
              "      <th></th>\n",
              "      <th>Rank</th>\n",
              "      <th>Year</th>\n",
              "      <th>NA_Sales</th>\n",
              "      <th>EU_Sales</th>\n",
              "      <th>JP_Sales</th>\n",
              "      <th>Other_Sales</th>\n",
              "      <th>Global_Sales</th>\n",
              "      <th>area_label</th>\n",
              "      <th>publisher_label</th>\n",
              "      <th>genre_label</th>\n",
              "    </tr>\n",
              "  </thead>\n",
              "  <tbody>\n",
              "    <tr>\n",
              "      <th>count</th>\n",
              "      <td>16598.000000</td>\n",
              "      <td>16327.000000</td>\n",
              "      <td>16598.000000</td>\n",
              "      <td>16598.000000</td>\n",
              "      <td>16598.000000</td>\n",
              "      <td>16598.000000</td>\n",
              "      <td>16598.000000</td>\n",
              "      <td>16598.000000</td>\n",
              "      <td>16540.000000</td>\n",
              "      <td>16598.000000</td>\n",
              "    </tr>\n",
              "    <tr>\n",
              "      <th>mean</th>\n",
              "      <td>8300.605254</td>\n",
              "      <td>2006.406443</td>\n",
              "      <td>0.264667</td>\n",
              "      <td>0.146652</td>\n",
              "      <td>0.077782</td>\n",
              "      <td>0.048063</td>\n",
              "      <td>0.537441</td>\n",
              "      <td>1.624292</td>\n",
              "      <td>61.632164</td>\n",
              "      <td>5.260333</td>\n",
              "    </tr>\n",
              "    <tr>\n",
              "      <th>std</th>\n",
              "      <td>4791.853933</td>\n",
              "      <td>5.828981</td>\n",
              "      <td>0.816683</td>\n",
              "      <td>0.505351</td>\n",
              "      <td>0.309291</td>\n",
              "      <td>0.188588</td>\n",
              "      <td>1.555028</td>\n",
              "      <td>0.853952</td>\n",
              "      <td>102.156301</td>\n",
              "      <td>3.421823</td>\n",
              "    </tr>\n",
              "    <tr>\n",
              "      <th>min</th>\n",
              "      <td>1.000000</td>\n",
              "      <td>1980.000000</td>\n",
              "      <td>0.000000</td>\n",
              "      <td>0.000000</td>\n",
              "      <td>0.000000</td>\n",
              "      <td>0.000000</td>\n",
              "      <td>0.010000</td>\n",
              "      <td>0.000000</td>\n",
              "      <td>0.000000</td>\n",
              "      <td>0.000000</td>\n",
              "    </tr>\n",
              "    <tr>\n",
              "      <th>25%</th>\n",
              "      <td>4151.250000</td>\n",
              "      <td>2003.000000</td>\n",
              "      <td>0.000000</td>\n",
              "      <td>0.000000</td>\n",
              "      <td>0.000000</td>\n",
              "      <td>0.000000</td>\n",
              "      <td>0.060000</td>\n",
              "      <td>1.000000</td>\n",
              "      <td>7.000000</td>\n",
              "      <td>2.000000</td>\n",
              "    </tr>\n",
              "    <tr>\n",
              "      <th>50%</th>\n",
              "      <td>8300.500000</td>\n",
              "      <td>2007.000000</td>\n",
              "      <td>0.080000</td>\n",
              "      <td>0.020000</td>\n",
              "      <td>0.000000</td>\n",
              "      <td>0.010000</td>\n",
              "      <td>0.170000</td>\n",
              "      <td>1.000000</td>\n",
              "      <td>19.000000</td>\n",
              "      <td>6.000000</td>\n",
              "    </tr>\n",
              "    <tr>\n",
              "      <th>75%</th>\n",
              "      <td>12449.750000</td>\n",
              "      <td>2010.000000</td>\n",
              "      <td>0.240000</td>\n",
              "      <td>0.110000</td>\n",
              "      <td>0.040000</td>\n",
              "      <td>0.040000</td>\n",
              "      <td>0.470000</td>\n",
              "      <td>2.000000</td>\n",
              "      <td>58.000000</td>\n",
              "      <td>8.000000</td>\n",
              "    </tr>\n",
              "    <tr>\n",
              "      <th>max</th>\n",
              "      <td>16600.000000</td>\n",
              "      <td>2020.000000</td>\n",
              "      <td>41.490000</td>\n",
              "      <td>29.020000</td>\n",
              "      <td>10.220000</td>\n",
              "      <td>10.570000</td>\n",
              "      <td>82.740000</td>\n",
              "      <td>3.000000</td>\n",
              "      <td>578.000000</td>\n",
              "      <td>11.000000</td>\n",
              "    </tr>\n",
              "  </tbody>\n",
              "</table>\n",
              "</div>\n",
              "      <button class=\"colab-df-convert\" onclick=\"convertToInteractive('df-f9ab04ba-4e27-4900-a958-e38500ad439e')\"\n",
              "              title=\"Convert this dataframe to an interactive table.\"\n",
              "              style=\"display:none;\">\n",
              "        \n",
              "  <svg xmlns=\"http://www.w3.org/2000/svg\" height=\"24px\"viewBox=\"0 0 24 24\"\n",
              "       width=\"24px\">\n",
              "    <path d=\"M0 0h24v24H0V0z\" fill=\"none\"/>\n",
              "    <path d=\"M18.56 5.44l.94 2.06.94-2.06 2.06-.94-2.06-.94-.94-2.06-.94 2.06-2.06.94zm-11 1L8.5 8.5l.94-2.06 2.06-.94-2.06-.94L8.5 2.5l-.94 2.06-2.06.94zm10 10l.94 2.06.94-2.06 2.06-.94-2.06-.94-.94-2.06-.94 2.06-2.06.94z\"/><path d=\"M17.41 7.96l-1.37-1.37c-.4-.4-.92-.59-1.43-.59-.52 0-1.04.2-1.43.59L10.3 9.45l-7.72 7.72c-.78.78-.78 2.05 0 2.83L4 21.41c.39.39.9.59 1.41.59.51 0 1.02-.2 1.41-.59l7.78-7.78 2.81-2.81c.8-.78.8-2.07 0-2.86zM5.41 20L4 18.59l7.72-7.72 1.47 1.35L5.41 20z\"/>\n",
              "  </svg>\n",
              "      </button>\n",
              "      \n",
              "  <style>\n",
              "    .colab-df-container {\n",
              "      display:flex;\n",
              "      flex-wrap:wrap;\n",
              "      gap: 12px;\n",
              "    }\n",
              "\n",
              "    .colab-df-convert {\n",
              "      background-color: #E8F0FE;\n",
              "      border: none;\n",
              "      border-radius: 50%;\n",
              "      cursor: pointer;\n",
              "      display: none;\n",
              "      fill: #1967D2;\n",
              "      height: 32px;\n",
              "      padding: 0 0 0 0;\n",
              "      width: 32px;\n",
              "    }\n",
              "\n",
              "    .colab-df-convert:hover {\n",
              "      background-color: #E2EBFA;\n",
              "      box-shadow: 0px 1px 2px rgba(60, 64, 67, 0.3), 0px 1px 3px 1px rgba(60, 64, 67, 0.15);\n",
              "      fill: #174EA6;\n",
              "    }\n",
              "\n",
              "    [theme=dark] .colab-df-convert {\n",
              "      background-color: #3B4455;\n",
              "      fill: #D2E3FC;\n",
              "    }\n",
              "\n",
              "    [theme=dark] .colab-df-convert:hover {\n",
              "      background-color: #434B5C;\n",
              "      box-shadow: 0px 1px 3px 1px rgba(0, 0, 0, 0.15);\n",
              "      filter: drop-shadow(0px 1px 2px rgba(0, 0, 0, 0.3));\n",
              "      fill: #FFFFFF;\n",
              "    }\n",
              "  </style>\n",
              "\n",
              "      <script>\n",
              "        const buttonEl =\n",
              "          document.querySelector('#df-f9ab04ba-4e27-4900-a958-e38500ad439e button.colab-df-convert');\n",
              "        buttonEl.style.display =\n",
              "          google.colab.kernel.accessAllowed ? 'block' : 'none';\n",
              "\n",
              "        async function convertToInteractive(key) {\n",
              "          const element = document.querySelector('#df-f9ab04ba-4e27-4900-a958-e38500ad439e');\n",
              "          const dataTable =\n",
              "            await google.colab.kernel.invokeFunction('convertToInteractive',\n",
              "                                                     [key], {});\n",
              "          if (!dataTable) return;\n",
              "\n",
              "          const docLinkHtml = 'Like what you see? Visit the ' +\n",
              "            '<a target=\"_blank\" href=https://colab.research.google.com/notebooks/data_table.ipynb>data table notebook</a>'\n",
              "            + ' to learn more about interactive tables.';\n",
              "          element.innerHTML = '';\n",
              "          dataTable['output_type'] = 'display_data';\n",
              "          await google.colab.output.renderOutput(dataTable, element);\n",
              "          const docLink = document.createElement('div');\n",
              "          docLink.innerHTML = docLinkHtml;\n",
              "          element.appendChild(docLink);\n",
              "        }\n",
              "      </script>\n",
              "    </div>\n",
              "  </div>\n",
              "  "
            ]
          },
          "metadata": {},
          "execution_count": 15
        }
      ],
      "source": [
        "df.describe()"
      ]
    },
    {
      "cell_type": "code",
      "execution_count": 16,
      "metadata": {
        "id": "lLdFwqm22hzR"
      },
      "outputs": [],
      "source": [
        "include = ['Year', 'genre_label','publisher_label','area_label']"
      ]
    },
    {
      "cell_type": "code",
      "execution_count": 17,
      "metadata": {
        "id": "x9QHnclr1F-J"
      },
      "outputs": [],
      "source": [
        "df.drop(columns=df.columns.difference(include), inplace=True) "
      ]
    },
    {
      "cell_type": "markdown",
      "source": [
        "Data Manipulation of Model 1 (Answering Problem 2)"
      ],
      "metadata": {
        "id": "HmQclnGeldF2"
      }
    },
    {
      "cell_type": "code",
      "source": [
        "columns_to_drop = ['Name', 'NA_Sales', 'EU_Sales', 'JP_Sales', 'Other_Sales']\n",
        "\n",
        "data.drop(columns_to_drop, axis=1, inplace=True)\n",
        "\n",
        "data['Year'] = data['Year'].fillna(data['Year'].mean())\n",
        "\n",
        "data = data.dropna(axis=0)\n",
        "\n",
        "data['Platform'].unique()\n",
        "\n",
        "data['Genre'].unique()\n",
        "\n",
        "counts = data['Publisher'].value_counts()\n",
        "\n",
        "data['Publisher'] = data['Publisher'].apply(lambda x: 'Small Publisher' if counts[x] < 50 else x)\n",
        "\n",
        "onehot_cols = ['Genre', 'Publisher']\n",
        "\n",
        "def onehot(data, cols):\n",
        "    for col in cols:\n",
        "        dums = pd.get_dummies(data[col])\n",
        "        data = pd.concat([data, dums], axis=1)\n",
        "        data.drop(col, axis=1, inplace=True)\n",
        "    return data\n",
        "\n",
        "data = onehot(data, onehot_cols)\n",
        "\n",
        "data.iloc[:,0] = pd.factorize(data.iloc[:,0])[0]\n",
        "\n",
        "cols = []\n",
        "count = 1\n",
        "for column in data.columns:\n",
        "    if column == 'Platform':\n",
        "        cols.append(f'Platform_{count}')\n",
        "        count+=1\n",
        "        continue\n",
        "    cols.append(column)\n",
        "data.columns = cols"
      ],
      "metadata": {
        "id": "xDZ_P93klZcC",
        "colab": {
          "base_uri": "https://localhost:8080/"
        },
        "outputId": "b7e3de5b-459a-45a8-f930-bcae847f563f"
      },
      "execution_count": 18,
      "outputs": [
        {
          "output_type": "stream",
          "name": "stderr",
          "text": [
            "<ipython-input-18-f34e0849656a>:15: SettingWithCopyWarning: \n",
            "A value is trying to be set on a copy of a slice from a DataFrame.\n",
            "Try using .loc[row_indexer,col_indexer] = value instead\n",
            "\n",
            "See the caveats in the documentation: https://pandas.pydata.org/pandas-docs/stable/user_guide/indexing.html#returning-a-view-versus-a-copy\n",
            "  data['Publisher'] = data['Publisher'].apply(lambda x: 'Small Publisher' if counts[x] < 50 else x)\n"
          ]
        }
      ]
    },
    {
      "cell_type": "markdown",
      "metadata": {
        "id": "3YzcSMrEmDxN"
      },
      "source": [
        "# Neural Network to Predict Platform (Model 1 which Answers Problem 2)\n"
      ]
    },
    {
      "cell_type": "code",
      "execution_count": 19,
      "metadata": {
        "id": "QGs0BCAdmDxX"
      },
      "outputs": [],
      "source": [
        "import matplotlib.pyplot as plt\n",
        "\n",
        "from sklearn.preprocessing import StandardScaler\n",
        "from sklearn.model_selection import train_test_split\n",
        "from sklearn.metrics import precision_score\n",
        "\n",
        "import tensorflow as tf\n",
        "\n",
        "y = data['Platform_1']\n",
        "X = data.drop('Platform_1', axis=1)\n",
        "\n",
        "scaler = StandardScaler()\n",
        "\n",
        "X = scaler.fit_transform(X)\n",
        "X_train, X_test, y_train, y_test = train_test_split(X, y, train_size=0.8)\n"
      ]
    },
    {
      "cell_type": "code",
      "execution_count": 20,
      "metadata": {
        "id": "anunoFjYmDxY"
      },
      "outputs": [],
      "source": [
        "inputs = tf.keras.Input(shape=(61,))\n",
        "x = tf.keras.layers.Dense(128, activation='relu')(inputs)\n",
        "x = tf.keras.layers.Dense(128, activation='relu')(x)\n",
        "outputs = tf.keras.layers.Dense(1)(x)\n",
        "\n",
        "model = tf.keras.Model(inputs=inputs, outputs=outputs)\n",
        "\n",
        "\n",
        "optimizer = tf.keras.optimizers.RMSprop(0.001)\n",
        "\n",
        "model.compile(\n",
        "    optimizer=optimizer,\n",
        "    loss='mse',\n",
        "    metrics=['accuracy']\n",
        ")\n",
        "\n",
        "\n",
        "batch_size = 64\n",
        "epochs = 18\n",
        "\n",
        "history = model.fit(\n",
        "    X_train,\n",
        "    y_train,\n",
        "    validation_split=0.2,\n",
        "    batch_size=batch_size,\n",
        "    epochs=epochs,\n",
        "    verbose=0\n",
        ")"
      ]
    },
    {
      "cell_type": "code",
      "execution_count": 21,
      "metadata": {
        "colab": {
          "base_uri": "https://localhost:8080/",
          "height": 0
        },
        "outputId": "f5eaf2d1-b1ce-4359-b69f-b33a47f5ae4b",
        "id": "G0cA66j9mDxY"
      },
      "outputs": [
        {
          "output_type": "display_data",
          "data": {
            "text/plain": [
              "<Figure size 1008x720 with 1 Axes>"
            ],
            "image/png": "[encoded data removed]"
          },
          "metadata": {
            "needs_background": "light"
          }
        }
      ],
      "source": [
        "plt.figure(figsize=(14, 10))\n",
        "\n",
        "epochs_range = range(1, epochs + 1)\n",
        "train_loss = history.history['loss']\n",
        "val_loss = history.history['val_loss']\n",
        "\n",
        "plt.plot(epochs_range, train_loss, label=\"Training Loss\")\n",
        "plt.plot(epochs_range, val_loss, label=\"Validation Loss\")\n",
        "\n",
        "plt.xlabel(\"Epoch\")\n",
        "plt.ylabel(\"Loss\")\n",
        "plt.legend()\n",
        "\n",
        "plt.show()"
      ]
    },
    {
      "cell_type": "code",
      "execution_count": 22,
      "metadata": {
        "colab": {
          "base_uri": "https://localhost:8080/"
        },
        "outputId": "fd7bef3e-1d22-4442-f848-8fd15f9cb059",
        "id": "JYuCt8wWmDxZ"
      },
      "outputs": [
        {
          "output_type": "execute_result",
          "data": {
            "text/plain": [
              "{'loss': [35.65256118774414,\n",
              "  29.86071014404297,\n",
              "  28.797626495361328,\n",
              "  27.947593688964844,\n",
              "  27.281341552734375,\n",
              "  26.52170753479004,\n",
              "  25.883821487426758,\n",
              "  25.149734497070312,\n",
              "  24.61644744873047,\n",
              "  24.1676025390625,\n",
              "  23.688383102416992,\n",
              "  23.459617614746094,\n",
              "  23.270999908447266,\n",
              "  22.974666595458984,\n",
              "  22.81100082397461,\n",
              "  22.757421493530273,\n",
              "  22.527935028076172,\n",
              "  22.456933975219727],\n",
              " 'accuracy': [0.006140765268355608,\n",
              "  0.005384978838264942,\n",
              "  0.005384978838264942,\n",
              "  0.0055739255622029305,\n",
              "  0.0055739255622029305,\n",
              "  0.0055739255622029305,\n",
              "  0.0055739255622029305,\n",
              "  0.005762871820479631,\n",
              "  0.00595181854441762,\n",
              "  0.005762871820479631,\n",
              "  0.006046291906386614,\n",
              "  0.00595181854441762,\n",
              "  0.006046291906386614,\n",
              "  0.00642418535426259,\n",
              "  0.0055739255622029305,\n",
              "  0.006235238630324602,\n",
              "  0.0058573451824486256,\n",
              "  0.006235238630324602],\n",
              " 'val_loss': [29.992698669433594,\n",
              "  29.458457946777344,\n",
              "  28.798568725585938,\n",
              "  27.980955123901367,\n",
              "  26.8538875579834,\n",
              "  26.787853240966797,\n",
              "  26.03384780883789,\n",
              "  25.596920013427734,\n",
              "  24.759613037109375,\n",
              "  24.59157371520996,\n",
              "  24.18206787109375,\n",
              "  24.34349250793457,\n",
              "  24.086713790893555,\n",
              "  23.783884048461914,\n",
              "  23.869909286499023,\n",
              "  24.001319885253906,\n",
              "  23.95210838317871,\n",
              "  23.658967971801758],\n",
              " 'val_accuracy': [0.006800150964409113,\n",
              "  0.006800150964409113,\n",
              "  0.006800150964409113,\n",
              "  0.006800150964409113,\n",
              "  0.006800150964409113,\n",
              "  0.006800150964409113,\n",
              "  0.006800150964409113,\n",
              "  0.0064223650842905045,\n",
              "  0.006800150964409113,\n",
              "  0.006800150964409113,\n",
              "  0.006800150964409113,\n",
              "  0.005289006512612104,\n",
              "  0.0064223650842905045,\n",
              "  0.005666792392730713,\n",
              "  0.0064223650842905045,\n",
              "  0.006800150964409113,\n",
              "  0.006044578738510609,\n",
              "  0.006800150964409113]}"
            ]
          },
          "metadata": {},
          "execution_count": 22
        }
      ],
      "source": [
        "history.history"
      ]
    },
    {
      "cell_type": "code",
      "execution_count": 23,
      "metadata": {
        "colab": {
          "base_uri": "https://localhost:8080/"
        },
        "id": "yuEwlpxXmDxZ",
        "outputId": "116a64c5-fe2a-4a4b-bbc4-6d33b98539a2"
      },
      "outputs": [
        {
          "output_type": "stream",
          "name": "stdout",
          "text": [
            "Evaluate on test data\n",
            "52/52 [==============================] - 0s 2ms/step - loss: 24.2163 - accuracy: 0.0076\n",
            "test loss, test acc: [24.216272354125977, 0.007557436358183622]\n",
            "Generate predictions for 3 samples\n",
            "1/1 [==============================] - 0s 66ms/step\n",
            "predictions shape: (3, 1)\n"
          ]
        }
      ],
      "source": [
        "print(\"Evaluate on test data\")\n",
        "results = model.evaluate(X_test, y_test, batch_size=64)\n",
        "print(\"test loss, test acc:\", results)\n",
        "\n",
        "print(\"Generate predictions for 3 samples\")\n",
        "predictions = model.predict(X_test[:3])\n",
        "print(\"predictions shape:\", predictions.shape)"
      ]
    },
    {
      "cell_type": "code",
      "execution_count": 24,
      "metadata": {
        "colab": {
          "base_uri": "https://localhost:8080/"
        },
        "outputId": "f662ecf5-419a-49e6-e38f-e39952140490",
        "id": "k2lIGwCpmDxZ"
      },
      "outputs": [
        {
          "output_type": "stream",
          "name": "stdout",
          "text": [
            "0.002871825876662636\n"
          ]
        },
        {
          "output_type": "stream",
          "name": "stderr",
          "text": [
            "/usr/local/lib/python3.8/dist-packages/sklearn/metrics/_classification.py:1318: UndefinedMetricWarning: Precision is ill-defined and being set to 0.0 in labels with no predicted samples. Use `zero_division` parameter to control this behavior.\n",
            "  _warn_prf(average, modifier, msg_start, len(result))\n"
          ]
        }
      ],
      "source": [
        "y_pred = model.predict(X_test, batch_size=64, verbose=0)\n",
        "y_pred_bool = np.argmax(y_pred, axis=1)\n",
        "print(precision_score(y_test, y_pred_bool, average=\"macro\"))"
      ]
    },
    {
      "cell_type": "markdown",
      "metadata": {
        "id": "se-dSIRkXncm"
      },
      "source": [
        "# Random Forest with optimization\n"
      ]
    },
    {
      "cell_type": "code",
      "execution_count": 25,
      "metadata": {
        "id": "D01qqD2PY803"
      },
      "outputs": [],
      "source": [
        "from sklearn.ensemble import RandomForestClassifier as rf\n",
        "from sklearn.model_selection import train_test_split\n",
        "from sklearn.metrics import accuracy_score, log_loss, confusion_matrix\n",
        "import sklearn\n",
        "\n",
        "df['publisher_label'] = df['publisher_label'].fillna(df['publisher_label'].median())\n",
        "df['genre_label'] = df['genre_label'].fillna(df['genre_label'].median())\n",
        "df['area_label'] = df['area_label'].fillna(df['area_label'].median())\n",
        "df['Year'] = df['Year'].fillna(df['Year'].median())\n",
        "dependent_variable = 'area_label'\n",
        "x = df[df.columns.difference([dependent_variable])]\n",
        "y = df[dependent_variable]\n",
        "X_train, X_test, y_train,y_test = train_test_split(x, y, test_size=0.2)"
      ]
    },
    {
      "cell_type": "code",
      "execution_count": 26,
      "metadata": {
        "id": "YY-pd1gJaqGt",
        "colab": {
          "base_uri": "https://localhost:8080/"
        },
        "outputId": "cce93a9a-ab75-4d2b-e47f-6ece233db37e"
      },
      "outputs": [
        {
          "output_type": "stream",
          "name": "stdout",
          "text": [
            "{'n_estimators': [200, 400, 600, 800, 1000, 1200, 1400, 1600, 1800, 2000], 'max_features': ['auto', 'sqrt', 'log2'], 'max_depth': [10, 120, 230, 340, 450, 560, 670, 780, 890, 1000], 'min_samples_split': [2, 5, 10, 14], 'min_samples_leaf': [1, 2, 4, 6, 8], 'criterion': ['entropy', 'gini']}\n"
          ]
        }
      ],
      "source": [
        "import numpy as np\n",
        "from sklearn.model_selection import RandomizedSearchCV\n",
        "# Number of trees in random forest\n",
        "n_estimators = [int(x) for x in np.linspace(start = 200, stop = 2000, num = 10)]\n",
        "# Number of features to consider at every split\n",
        "max_features = ['auto', 'sqrt','log2']\n",
        "# Maximum number of levels in tree\n",
        "max_depth = [int(x) for x in np.linspace(10, 1000,10)]\n",
        "# Minimum number of samples required to split a node\n",
        "min_samples_split = [2, 5, 10,14]\n",
        "# Minimum number of samples required at each leaf node\n",
        "min_samples_leaf = [1, 2, 4,6,8]\n",
        "# Create the random grid\n",
        "random_grid = {'n_estimators': n_estimators,\n",
        "               'max_features': max_features,\n",
        "               'max_depth': max_depth,\n",
        "               'min_samples_split': min_samples_split,\n",
        "               'min_samples_leaf': min_samples_leaf,\n",
        "              'criterion':['entropy','gini']}\n",
        "print(random_grid)"
      ]
    },
    {
      "cell_type": "code",
      "execution_count": 27,
      "metadata": {
        "id": "TqKbcJoZatW8",
        "colab": {
          "base_uri": "https://localhost:8080/"
        },
        "outputId": "de1560ef-eaea-465e-b892-5fde9460c73e"
      },
      "outputs": [
        {
          "output_type": "stream",
          "name": "stdout",
          "text": [
            "Fitting 3 folds for each of 100 candidates, totalling 300 fits\n"
          ]
        },
        {
          "output_type": "stream",
          "name": "stderr",
          "text": [
            "/usr/local/lib/python3.8/dist-packages/joblib/externals/loky/process_executor.py:700: UserWarning: A worker stopped while some jobs were given to the executor. This can be caused by a too short worker timeout or by a memory leak.\n",
            "  warnings.warn(\n"
          ]
        },
        {
          "output_type": "execute_result",
          "data": {
            "text/plain": [
              "RandomizedSearchCV(cv=3, estimator=RandomForestClassifier(), n_iter=100,\n",
              "                   n_jobs=-1,\n",
              "                   param_distributions={'criterion': ['entropy', 'gini'],\n",
              "                                        'max_depth': [10, 120, 230, 340, 450,\n",
              "                                                      560, 670, 780, 890,\n",
              "                                                      1000],\n",
              "                                        'max_features': ['auto', 'sqrt',\n",
              "                                                         'log2'],\n",
              "                                        'min_samples_leaf': [1, 2, 4, 6, 8],\n",
              "                                        'min_samples_split': [2, 5, 10, 14],\n",
              "                                        'n_estimators': [200, 400, 600, 800,\n",
              "                                                         1000, 1200, 1400, 1600,\n",
              "                                                         1800, 2000]},\n",
              "                   random_state=100, verbose=2)"
            ]
          },
          "metadata": {},
          "execution_count": 27
        }
      ],
      "source": [
        "rf_randomcv = RandomizedSearchCV(estimator=rf(),param_distributions=random_grid,n_iter=100,cv=3,verbose=2,\n",
        "                               random_state=100,n_jobs=-1)\n",
        "# fit to randomized rf\n",
        "rf_randomcv.fit(X_train,y_train)"
      ]
    },
    {
      "cell_type": "code",
      "execution_count": 28,
      "metadata": {
        "id": "uewdcieSa0nE",
        "colab": {
          "base_uri": "https://localhost:8080/"
        },
        "outputId": "0d639eed-6783-48a0-866b-63f133666f18"
      },
      "outputs": [
        {
          "output_type": "stream",
          "name": "stdout",
          "text": [
            "{'n_estimators': 1600, 'min_samples_split': 10, 'min_samples_leaf': 1, 'max_features': 'auto', 'max_depth': 780, 'criterion': 'entropy'}\n"
          ]
        }
      ],
      "source": [
        "# to see best parameters\n",
        "print(rf_randomcv.best_params_)\n",
        "\n",
        "# to make new classifier with the best estimator\n",
        "best_random_grid=rf_randomcv.best_estimator_"
      ]
    },
    {
      "cell_type": "code",
      "execution_count": 29,
      "metadata": {
        "id": "qqz_pDGclEd1"
      },
      "outputs": [],
      "source": [
        "def evaluate(model, test_features, test_labels):\n",
        "    predictions = model.predict(test_features)\n",
        "    errors = abs(predictions - test_labels)\n",
        "    mape = 100 * np.mean(errors / test_labels)\n",
        "    accuracy = 100 - mape\n",
        "    print('Model Performance')\n",
        "    print('Average Error: {:0.4f} degrees.'.format(np.mean(errors)))\n",
        "    print('Accuracy = {:0.2f}%.'.format(accuracy))\n",
        "    \n",
        "    return accuracy"
      ]
    },
    {
      "cell_type": "code",
      "execution_count": 30,
      "metadata": {
        "id": "huVior6OllY9",
        "colab": {
          "base_uri": "https://localhost:8080/"
        },
        "outputId": "b72bf9c6-0c84-4ae0-e07a-57ed10097c04"
      },
      "outputs": [
        {
          "output_type": "stream",
          "name": "stdout",
          "text": [
            "Model Performance\n",
            "Average Error: 0.3864 degrees.\n",
            "Accuracy = -inf%.\n",
            "****Results****\n",
            "=== Confusion Matrix ===\n",
            "[[   0    9    5    2]\n",
            " [   0 1722  118  202]\n",
            " [   0  232  207   52]\n",
            " [   0  213   26  532]]\n",
            "\n",
            "\n",
            "Accuracy: 74.1265%\n"
          ]
        }
      ],
      "source": [
        "clf = rf(n_estimators = 1000)\n",
        "clf.fit(X_train, y_train)\n",
        "base_accuracy = evaluate(clf, X_test, y_test)\n",
        "print('****Results****')\n",
        "pred = clf.predict(X_test)\n",
        "acc = accuracy_score(y_test, pred)\n",
        "print(\"=== Confusion Matrix ===\")\n",
        "print(confusion_matrix(y_test, pred))\n",
        "print('\\n')\n",
        "print(\"Accuracy: {:.4%}\".format(acc))"
      ]
    },
    {
      "cell_type": "code",
      "execution_count": 31,
      "metadata": {
        "id": "nu6Vg-QAl4TJ",
        "colab": {
          "base_uri": "https://localhost:8080/"
        },
        "outputId": "98174ea1-f975-4bb7-b761-2df9b9630d25"
      },
      "outputs": [
        {
          "output_type": "stream",
          "name": "stdout",
          "text": [
            "Model Performance\n",
            "Average Error: 0.3892 degrees.\n",
            "Accuracy = -inf%.\n",
            "****Results****\n",
            "=== Confusion Matrix ===\n",
            "[[   0   10    4    2]\n",
            " [   0 1770   87  185]\n",
            " [   0  245  180   66]\n",
            " [   0  241   18  512]]\n",
            "\n",
            "\n",
            "Accuracy: 74.1566%\n"
          ]
        }
      ],
      "source": [
        "random_accuracy = evaluate(best_random_grid, X_test, y_test)\n",
        "print('****Results****')\n",
        "pred = best_random_grid.predict(X_test)\n",
        "acc = accuracy_score(y_test, pred)\n",
        "print(\"=== Confusion Matrix ===\")\n",
        "print(confusion_matrix(y_test, pred))\n",
        "print('\\n')\n",
        "print(\"Accuracy: {:.4%}\".format(acc))"
      ]
    },
    {
      "cell_type": "markdown",
      "metadata": {
        "id": "bYaQHy_5lmGV"
      },
      "source": [
        "# Random Forest without optimization"
      ]
    },
    {
      "cell_type": "code",
      "execution_count": 32,
      "metadata": {
        "colab": {
          "base_uri": "https://localhost:8080/"
        },
        "id": "O2AJY4xG1gpa",
        "outputId": "fe7a451e-9027-4023-ae11-8faff71f6f30"
      },
      "outputs": [
        {
          "output_type": "execute_result",
          "data": {
            "text/plain": [
              "RandomForestClassifier(n_estimators=1000)"
            ]
          },
          "metadata": {},
          "execution_count": 32
        }
      ],
      "source": [
        "# Train model \n",
        "clf = rf(n_estimators = 1000)\n",
        "clf.fit(X_train, y_train)"
      ]
    },
    {
      "cell_type": "markdown",
      "source": [
        "Accuracy and confusion matrix"
      ],
      "metadata": {
        "id": "Sn9IAH6oaCbT"
      }
    },
    {
      "cell_type": "code",
      "execution_count": 33,
      "metadata": {
        "colab": {
          "base_uri": "https://localhost:8080/"
        },
        "id": "52b5Vr6uZAak",
        "outputId": "5b22eeca-dd3f-4899-97f3-c5ec1ea99124"
      },
      "outputs": [
        {
          "output_type": "stream",
          "name": "stdout",
          "text": [
            "****Results****\n",
            "=== Confusion Matrix ===\n",
            "[[   0   10    4    2]\n",
            " [   0 1745  103  194]\n",
            " [   0  235  202   54]\n",
            " [   0  223   29  519]]\n",
            "\n",
            "\n",
            "Accuracy: 74.2771%\n"
          ]
        }
      ],
      "source": [
        "# results \n",
        "print('****Results****')\n",
        "pred = clf.predict(X_test)\n",
        "acc = accuracy_score(y_test, pred)\n",
        "print(\"=== Confusion Matrix ===\")\n",
        "print(confusion_matrix(y_test, pred))\n",
        "print('\\n')\n",
        "print(\"Accuracy: {:.4%}\".format(acc))"
      ]
    },
    {
      "cell_type": "code",
      "execution_count": 34,
      "metadata": {
        "id": "NPnHOTDb5DcB",
        "colab": {
          "base_uri": "https://localhost:8080/"
        },
        "outputId": "0c47046f-7245-4463-8102-6706e231f007"
      },
      "outputs": [
        {
          "output_type": "stream",
          "name": "stdout",
          "text": [
            "0.7427710843373494\n"
          ]
        }
      ],
      "source": [
        "f1_score = sklearn.metrics.f1_score(y_test, pred, average='micro')\n",
        "print(f1_score)"
      ]
    },
    {
      "cell_type": "markdown",
      "metadata": {
        "id": "2yegyyqjix6f"
      },
      "source": [
        "# Neural Network RMSprop Optimizer"
      ]
    },
    {
      "cell_type": "code",
      "execution_count": 35,
      "metadata": {
        "id": "fjoRx9zf58qm",
        "colab": {
          "base_uri": "https://localhost:8080/"
        },
        "outputId": "7037a92c-97bc-430f-ca25-7b6aef3256e7"
      },
      "outputs": [
        {
          "output_type": "execute_result",
          "data": {
            "text/plain": [
              "(16598, 3)"
            ]
          },
          "metadata": {},
          "execution_count": 35
        }
      ],
      "source": [
        "from sklearn.preprocessing import StandardScaler\n",
        "scaler = StandardScaler()\n",
        "\n",
        "x = scaler.fit_transform(x)\n",
        "\n",
        "x.shape"
      ]
    },
    {
      "cell_type": "code",
      "source": [
        "print(X_train.shape)"
      ],
      "metadata": {
        "colab": {
          "base_uri": "https://localhost:8080/"
        },
        "id": "RSKDPR5reRKC",
        "outputId": "d9588719-6ad4-4a27-f71e-078530ba33dc"
      },
      "execution_count": 36,
      "outputs": [
        {
          "output_type": "stream",
          "name": "stdout",
          "text": [
            "(13278, 3)\n"
          ]
        }
      ]
    },
    {
      "cell_type": "code",
      "execution_count": 37,
      "metadata": {
        "id": "3Bm-qOS45iJK"
      },
      "outputs": [],
      "source": [
        "import tensorflow as tf\n",
        "\n",
        "inputs = tf.keras.Input(shape=(3,))\n",
        "x = tf.keras.layers.Dense(128, activation='relu')(inputs)\n",
        "x = tf.keras.layers.Dense(128, activation='relu')(x)\n",
        "outputs = tf.keras.layers.Dense(1)(x)\n",
        "\n",
        "model = tf.keras.Model(inputs=inputs, outputs=outputs)\n",
        "\n",
        "\n",
        "optimizer = tf.keras.optimizers.RMSprop(0.001)\n",
        "\n",
        "model.compile(\n",
        "    optimizer=optimizer,\n",
        "    loss='mse',\n",
        "    metrics = ['accuracy']\n",
        ")\n",
        "\n",
        "\n",
        "batch_size = 64\n",
        "epochs = 100\n",
        "\n",
        "history = model.fit(\n",
        "    X_train,\n",
        "    y_train,\n",
        "    validation_split=0.2,\n",
        "    batch_size=batch_size,\n",
        "    epochs=epochs,\n",
        "    verbose=0\n",
        ")"
      ]
    },
    {
      "cell_type": "markdown",
      "source": [
        "Plot loss and accuracy"
      ],
      "metadata": {
        "id": "vesgkQQKZ58r"
      }
    },
    {
      "cell_type": "code",
      "execution_count": 38,
      "metadata": {
        "colab": {
          "base_uri": "https://localhost:8080/",
          "height": 600
        },
        "id": "Er3BzAvt924B",
        "outputId": "d1dc862a-4f2a-44d6-9143-2d04a7138831"
      },
      "outputs": [
        {
          "output_type": "stream",
          "name": "stdout",
          "text": [
            "[0.32338541746139526, 0.30643945932388306, 0.30643945932388306, 0.30672189593315125, 0.30738091468811035, 0.30643945932388306, 0.30766335129737854, 0.30483901500701904, 0.31990209221839905, 0.3210318088531494, 0.3416494131088257, 0.35153454542160034, 0.3856147527694702, 0.4437958896160126, 0.4796648323535919, 0.504048228263855, 0.5443419218063354, 0.5755036473274231, 0.5904725790023804, 0.6042176485061646, 0.6077010035514832, 0.6107136011123657, 0.6107136011123657, 0.6107136011123657, 0.6107136011123657, 0.6107136011123657, 0.6107136011123657, 0.6107136011123657, 0.6107136011123657, 0.6107136011123657, 0.6107136011123657, 0.6107136011123657, 0.6107136011123657, 0.6107136011123657, 0.6107136011123657, 0.6107136011123657, 0.6107136011123657, 0.6107136011123657, 0.6107136011123657, 0.6107136011123657, 0.6107136011123657, 0.6107136011123657, 0.6107136011123657, 0.6107136011123657, 0.6107136011123657, 0.6107136011123657, 0.6107136011123657, 0.6107136011123657, 0.6107136011123657, 0.6107136011123657, 0.6107136011123657, 0.6107136011123657, 0.6107136011123657, 0.6107136011123657, 0.6107136011123657, 0.6107136011123657, 0.6107136011123657, 0.6107136011123657, 0.6107136011123657, 0.6099604368209839, 0.6107136011123657, 0.6107136011123657, 0.6107136011123657, 0.6107136011123657, 0.6107136011123657, 0.6107136011123657, 0.6107136011123657, 0.6107136011123657, 0.6107136011123657, 0.6107136011123657, 0.6107136011123657, 0.6107136011123657, 0.6107136011123657, 0.6107136011123657, 0.6094897389411926, 0.6107136011123657, 0.6107136011123657, 0.6107136011123657, 0.6107136011123657, 0.6107136011123657, 0.6107136011123657, 0.6107136011123657, 0.6107136011123657, 0.6107136011123657, 0.6107136011123657, 0.6107136011123657, 0.6107136011123657, 0.6107136011123657, 0.6107136011123657, 0.6107136011123657, 0.6107136011123657, 0.6107136011123657, 0.6107136011123657, 0.6107136011123657, 0.6107136011123657, 0.6107136011123657, 0.6107136011123657, 0.6107136011123657, 0.6107136011123657, 0.6107136011123657]\n"
          ]
        },
        {
          "output_type": "display_data",
          "data": {
            "text/plain": [
              "<Figure size 1008x720 with 0 Axes>"
            ]
          },
          "metadata": {}
        },
        {
          "output_type": "display_data",
          "data": {
            "text/plain": [
              "<Figure size 432x288 with 1 Axes>"
            ],
            "image/png": "[encoded data removed]"
          },
          "metadata": {
            "needs_background": "light"
          }
        },
        {
          "output_type": "display_data",
          "data": {
            "text/plain": [
              "<Figure size 432x288 with 1 Axes>"
            ],
            "image/png": "[encoded data removed]"
          },
          "metadata": {
            "needs_background": "light"
          }
        }
      ],
      "source": [
        "import matplotlib.pyplot as plt\n",
        "plt.figure(figsize=(14, 10))\n",
        "\n",
        "epochs_range = range(1, epochs + 1)\n",
        "acc = history.history['accuracy']\n",
        "print(acc)\n",
        "val_acc = history.history['val_accuracy']\n",
        "train_loss = history.history['loss']\n",
        "val_loss = history.history['val_loss']\n",
        "plt.figure()\n",
        "plt.plot(epochs_range, acc,  label='Training acc')\n",
        "plt.plot(epochs_range, val_acc, label='Validation acc')\n",
        "plt.xlabel(\"Epoch\")\n",
        "plt.ylabel(\"Accuracy\")\n",
        "plt.legend()\n",
        "plt.figure()\n",
        "plt.plot(epochs_range, train_loss, label=\"Training Loss\")\n",
        "plt.plot(epochs_range, val_loss, label=\"Validation Loss\")\n",
        "\n",
        "plt.xlabel(\"Epoch\")\n",
        "plt.ylabel(\"Loss\")\n",
        "plt.legend()\n",
        "\n",
        "plt.show()"
      ]
    },
    {
      "cell_type": "code",
      "execution_count": 39,
      "metadata": {
        "colab": {
          "base_uri": "https://localhost:8080/"
        },
        "id": "yizAGQUF-C_X",
        "outputId": "d67c4451-5d42-4673-d4e1-76c2e47428ca"
      },
      "outputs": [
        {
          "output_type": "stream",
          "name": "stdout",
          "text": [
            "Evaluate on test data\n",
            "52/52 [==============================] - 0s 2ms/step - loss: 0.6731 - accuracy: 0.6151\n",
            "test loss, test acc: [0.6731179356575012, 0.6150602698326111]\n",
            "Generate predictions for 3 samples\n",
            "1/1 [==============================] - 0s 44ms/step\n",
            "predictions shape: (3, 1)\n"
          ]
        }
      ],
      "source": [
        "# Evaluate the model on the test data using `evaluate`\n",
        "print(\"Evaluate on test data\")\n",
        "results = model.evaluate(X_test, y_test, batch_size=64)\n",
        "print(\"test loss, test acc:\", results)\n",
        "\n",
        "# Generate predictions (probabilities -- the output of the last layer)\n",
        "# on new data using `predict`\n",
        "print(\"Generate predictions for 3 samples\")\n",
        "predictions = model.predict(X_test[:3])\n",
        "print(\"predictions shape:\", predictions.shape)"
      ]
    },
    {
      "cell_type": "markdown",
      "source": [
        "# Neural Network with Adam Optimizer"
      ],
      "metadata": {
        "id": "32XIqEFfw3Bs"
      }
    },
    {
      "cell_type": "code",
      "source": [
        "import tensorflow as tf\n",
        "\n",
        "inputs = tf.keras.Input(shape=(3,))\n",
        "x = tf.keras.layers.Dense(128, activation='relu')(inputs)\n",
        "x = tf.keras.layers.Dense(128, activation='relu')(x)\n",
        "outputs = tf.keras.layers.Dense(1)(x)\n",
        "\n",
        "model = tf.keras.Model(inputs=inputs, outputs=outputs)\n",
        "opt = tf.keras.optimizers.Adam(learning_rate=0.05)\n",
        "\n",
        "model.compile(\n",
        "    optimizer=opt,\n",
        "    loss='mse',\n",
        "    metrics=['accuracy']\n",
        ")\n",
        "\n",
        "\n",
        "batch_size = 64\n",
        "epochs = 100\n",
        "\n",
        "history = model.fit(\n",
        "    X_train,\n",
        "    y_train,\n",
        "    validation_split=0.2,\n",
        "    batch_size=batch_size,\n",
        "    epochs=epochs,\n",
        "    verbose=0\n",
        ")"
      ],
      "metadata": {
        "id": "4Zb5g47L_3Vt"
      },
      "execution_count": 43,
      "outputs": []
    },
    {
      "cell_type": "markdown",
      "source": [
        "Plot loss and accuracy"
      ],
      "metadata": {
        "id": "XH3y1n1vZ_F1"
      }
    },
    {
      "cell_type": "code",
      "source": [
        "import matplotlib.pyplot as plt\n",
        "plt.figure(figsize=(14, 10))\n",
        "\n",
        "epochs_range = range(1, epochs + 1)\n",
        "\n",
        "\n",
        "\n",
        "acc = history.history['accuracy']\n",
        "val_acc = history.history['val_accuracy']\n",
        "train_loss = history.history['loss']\n",
        "val_loss = history.history['val_loss']\n",
        "print(acc)\n",
        "plt.figure()\n",
        "plt.title('Training and validation accuracy')\n",
        "plt.plot(epochs_range, acc,  label='Training acc')\n",
        "plt.plot(epochs_range, val_acc, label='Validation acc')\n",
        "plt.xlabel(\"Epoch\")\n",
        "plt.ylabel(\"Accuracy\")\n",
        "plt.legend()\n",
        "\n",
        "plt.figure()\n",
        "\n",
        "plt.plot(epochs_range, train_loss, label=\"Training Loss\")\n",
        "plt.plot(epochs_range, val_loss, label=\"Validation Loss\")\n",
        "\n",
        "plt.xlabel(\"Epoch\")\n",
        "plt.ylabel(\"Loss\")\n",
        "plt.legend()\n",
        "\n",
        "plt.show()"
      ],
      "metadata": {
        "colab": {
          "base_uri": "https://localhost:8080/",
          "height": 612
        },
        "id": "YD3ckCsH_578",
        "outputId": "33a473c9-6939-4cd9-d4ca-eb78b076cd3e"
      },
      "execution_count": 44,
      "outputs": [
        {
          "output_type": "stream",
          "name": "stdout",
          "text": [
            "[0.5771982669830322, 0.6107136011123657, 0.6107136011123657, 0.6107136011123657, 0.6107136011123657, 0.6107136011123657, 0.6107136011123657, 0.6107136011123657, 0.6107136011123657, 0.6107136011123657, 0.6107136011123657, 0.6107136011123657, 0.6107136011123657, 0.6107136011123657, 0.6107136011123657, 0.6107136011123657, 0.6107136011123657, 0.6107136011123657, 0.6107136011123657, 0.6107136011123657, 0.6107136011123657, 0.6107136011123657, 0.6107136011123657, 0.6107136011123657, 0.6107136011123657, 0.6107136011123657, 0.6107136011123657, 0.6107136011123657, 0.6107136011123657, 0.6107136011123657, 0.6107136011123657, 0.6107136011123657, 0.6107136011123657, 0.6107136011123657, 0.6107136011123657, 0.6107136011123657, 0.6107136011123657, 0.6107136011123657, 0.6107136011123657, 0.6107136011123657, 0.6107136011123657, 0.6107136011123657, 0.6107136011123657, 0.6107136011123657, 0.6107136011123657, 0.6107136011123657, 0.6107136011123657, 0.6107136011123657, 0.6107136011123657, 0.6107136011123657, 0.6107136011123657, 0.6107136011123657, 0.6107136011123657, 0.6107136011123657, 0.6107136011123657, 0.6107136011123657, 0.6107136011123657, 0.6107136011123657, 0.6107136011123657, 0.6107136011123657, 0.6107136011123657, 0.6107136011123657, 0.6107136011123657, 0.6107136011123657, 0.6107136011123657, 0.6107136011123657, 0.6107136011123657, 0.6107136011123657, 0.6107136011123657, 0.6107136011123657, 0.6107136011123657, 0.6107136011123657, 0.6107136011123657, 0.6107136011123657, 0.6107136011123657, 0.6107136011123657, 0.6107136011123657, 0.6107136011123657, 0.6107136011123657, 0.6107136011123657, 0.6107136011123657, 0.6107136011123657, 0.6107136011123657, 0.6107136011123657, 0.6107136011123657, 0.6107136011123657, 0.6107136011123657, 0.6107136011123657, 0.6107136011123657, 0.6107136011123657, 0.6107136011123657, 0.6107136011123657, 0.6107136011123657, 0.6107136011123657, 0.6107136011123657, 0.6107136011123657, 0.6107136011123657, 0.6107136011123657, 0.6107136011123657, 0.6107136011123657]\n"
          ]
        },
        {
          "output_type": "display_data",
          "data": {
            "text/plain": [
              "<Figure size 1008x720 with 0 Axes>"
            ]
          },
          "metadata": {}
        },
        {
          "output_type": "display_data",
          "data": {
            "text/plain": [
              "<Figure size 432x288 with 1 Axes>"
            ],
            "image/png": "[encoded data removed]"
          },
          "metadata": {
            "needs_background": "light"
          }
        },
        {
          "output_type": "display_data",
          "data": {
            "text/plain": [
              "<Figure size 432x288 with 1 Axes>"
            ],
            "image/png": "[encoded data removed]"
          },
          "metadata": {
            "needs_background": "light"
          }
        }
      ]
    },
    {
      "cell_type": "code",
      "source": [
        "# Evaluate the model on the test data using `evaluate`\n",
        "print(\"Evaluate on test data\")\n",
        "results = model.evaluate(X_test, y_test, batch_size=64)\n",
        "print(\"test loss, test acc:\", results)\n",
        "# Generate predictions (probabilities -- the output of the last layer)\n",
        "# on new data using `predict`\n",
        "print(\"Generate predictions for 3 samples\")\n",
        "predictions = model.predict(X_test[:3])\n",
        "print(\"predictions shape:\", predictions.shape)"
      ],
      "metadata": {
        "colab": {
          "base_uri": "https://localhost:8080/"
        },
        "id": "qWKPQDrzwBgD",
        "outputId": "c5af2875-996f-42ea-e20a-513cdf3b2325"
      },
      "execution_count": 45,
      "outputs": [
        {
          "output_type": "stream",
          "name": "stdout",
          "text": [
            "Evaluate on test data\n",
            "52/52 [==============================] - 0s 2ms/step - loss: 0.7134 - accuracy: 0.6151\n",
            "test loss, test acc: [0.7134459018707275, 0.6150602698326111]\n",
            "Generate predictions for 3 samples\n",
            "1/1 [==============================] - 0s 43ms/step\n",
            "predictions shape: (3, 1)\n"
          ]
        }
      ]
    }
  ],
  "metadata": {
    "accelerator": "GPU",
    "colab": {
      "provenance": []
    },
    "gpuClass": "standard",
    "kernelspec": {
      "display_name": "Python 3",
      "name": "python3"
    },
    "language_info": {
      "name": "python"
    }
  },
  "nbformat": 4,
  "nbformat_minor": 0
}